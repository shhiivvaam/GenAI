{
 "cells": [
  {
   "cell_type": "markdown",
   "metadata": {},
   "source": [
    "># ***Data Structues***"
   ]
  },
  {
   "cell_type": "markdown",
   "metadata": {},
   "source": [
    ">### **Tuples**\n",
    "\n",
    "1. Ordered collections of elements, which stores hetrogeneous data\n",
    "2. These are ordered.\n",
    "3. It is immutable"
   ]
  },
  {
   "cell_type": "code",
   "execution_count": 4,
   "metadata": {},
   "outputs": [
    {
     "data": {
      "text/plain": [
       "('1', 2, 3, 4, 5, 6, {'name': 'Shivam'}, (1, 2, 3, 4, 5, 6, 7), 'Shivam')"
      ]
     },
     "execution_count": 4,
     "metadata": {},
     "output_type": "execute_result"
    }
   ],
   "source": [
    "t = ('1', 2, 3, 4, 5, 6, {'name': \"Shivam\"}, (1,2,3,4,5,6,7,), \"Shivam\")\n",
    "t"
   ]
  },
  {
   "cell_type": "code",
   "execution_count": 5,
   "metadata": {},
   "outputs": [
    {
     "name": "stdout",
     "output_type": "stream",
     "text": [
      "4\n",
      "1\n",
      "('1', 2, 3, 4, 5, 6, {'name': 'Shivam'}, (1, 2, 3, 4, 5, 6, 7), 'Shivam', '1', 2, 3, 4, 5, 6, {'name': 'Shivam'}, (1, 2, 3, 4, 5, 6, 7), 'Shivam', '1', 2, 3, 4, 5, 6, {'name': 'Shivam'}, (1, 2, 3, 4, 5, 6, 7), 'Shivam', '1', 2, 3, 4, 5, 6, {'name': 'Shivam'}, (1, 2, 3, 4, 5, 6, 7), 'Shivam', '1', 2, 3, 4, 5, 6, {'name': 'Shivam'}, (1, 2, 3, 4, 5, 6, 7), 'Shivam')\n",
      "('Shivam', (1, 2, 3, 4, 5, 6, 7), {'name': 'Shivam'}, 6, 5, 4, 3, 2, '1')\n"
     ]
    },
    {
     "ename": "NameError",
     "evalue": "name 't' is not defined",
     "output_type": "error",
     "traceback": [
      "\u001b[1;31m---------------------------------------------------------------------------\u001b[0m",
      "\u001b[1;31mNameError\u001b[0m                                 Traceback (most recent call last)",
      "Cell \u001b[1;32mIn[5], line 7\u001b[0m\n\u001b[0;32m      4\u001b[0m \u001b[38;5;28mprint\u001b[39m(t[::\u001b[38;5;241m-\u001b[39m\u001b[38;5;241m1\u001b[39m])\n\u001b[0;32m      6\u001b[0m \u001b[38;5;28;01mdel\u001b[39;00m t      \u001b[38;5;66;03m# It deleted the tuple\u001b[39;00m\n\u001b[1;32m----> 7\u001b[0m \u001b[38;5;28mprint\u001b[39m(\u001b[43mt\u001b[49m)\n",
      "\u001b[1;31mNameError\u001b[0m: name 't' is not defined"
     ]
    }
   ],
   "source": [
    "print(t[3])\n",
    "print(t.index(2))\n",
    "print(t*5)\n",
    "print(t[::-1])\n",
    "\n",
    "del t      # It deleted the tuple\n",
    "print(t)"
   ]
  },
  {
   "cell_type": "code",
   "execution_count": 6,
   "metadata": {},
   "outputs": [
    {
     "name": "stdout",
     "output_type": "stream",
     "text": [
      "(1, 2, 3, 4, 5, 6)\n"
     ]
    }
   ],
   "source": [
    "t1 = (1, 2, 3)\n",
    "t2 = (4, 5, 6)\n",
    "print(t1+t2)"
   ]
  },
  {
   "cell_type": "markdown",
   "metadata": {},
   "source": [
    ">### **Sets**\n",
    "\n",
    "1. They are mutable ans consists only unique elements.\n",
    "2. They are not indexed, and so they are not ordered.\n",
    "\n",
    ">#### *FrozenSet*:\n",
    "\n",
    "1. It is immutable\n",
    "2. It does not supports operations like add, pop(), etc."
   ]
  },
  {
   "cell_type": "code",
   "execution_count": 25,
   "metadata": {},
   "outputs": [
    {
     "data": {
      "text/plain": [
       "{1, 2, 3, 4}"
      ]
     },
     "execution_count": 25,
     "metadata": {},
     "output_type": "execute_result"
    }
   ],
   "source": [
    "s = {1, 2, 3, 4, 1, 2, 3, 4, 1, 2, 3, 4}\n",
    "s"
   ]
  },
  {
   "cell_type": "code",
   "execution_count": 26,
   "metadata": {},
   "outputs": [
    {
     "name": "stdout",
     "output_type": "stream",
     "text": [
      "{1, 2, 3, 4, 'Shivam'}\n",
      "5\n",
      "1\n",
      "2\n",
      "3\n",
      "None\n",
      "None\n",
      "{4}\n",
      "set()\n"
     ]
    },
    {
     "ename": "NameError",
     "evalue": "name 's' is not defined",
     "output_type": "error",
     "traceback": [
      "\u001b[1;31m---------------------------------------------------------------------------\u001b[0m",
      "\u001b[1;31mNameError\u001b[0m                                 Traceback (most recent call last)",
      "Cell \u001b[1;32mIn[26], line 15\u001b[0m\n\u001b[0;32m     12\u001b[0m \u001b[38;5;28mprint\u001b[39m(s)\n\u001b[0;32m     14\u001b[0m \u001b[38;5;28;01mdel\u001b[39;00m s\n\u001b[1;32m---> 15\u001b[0m \u001b[38;5;28mprint\u001b[39m(\u001b[43ms\u001b[49m)\n",
      "\u001b[1;31mNameError\u001b[0m: name 's' is not defined"
     ]
    }
   ],
   "source": [
    "s.add(\"Shivam\")\n",
    "print(s)\n",
    "print(len(s))\n",
    "print(s.pop())          #3 removes and returns the element from the starting of the set\n",
    "print(s.pop())\n",
    "print(s.pop())\n",
    "print(s.remove(\"Shivam\"))\n",
    "print(s.discard(\"Shivam\"))\n",
    "print(s)\n",
    "\n",
    "s.clear()\n",
    "print(s)\n",
    "\n",
    "del s\n",
    "print(s)"
   ]
  },
  {
   "cell_type": "code",
   "execution_count": 27,
   "metadata": {},
   "outputs": [
    {
     "name": "stdout",
     "output_type": "stream",
     "text": [
      "{1, 2, 3, 4, 5, 6, 7, 8}\n",
      "set()\n",
      "{1, 2, 3, 4}\n",
      "{1, 2, 3, 4, 5, 6, 7, 8}\n"
     ]
    }
   ],
   "source": [
    "s1 = {1, 2, 3, 4}\n",
    "s2 = {5, 6, 7, 8}\n",
    "print(s1|s2)\n",
    "print(s1&s2)\n",
    "print(s1-s2)\n",
    "print(s1^s2)"
   ]
  },
  {
   "cell_type": "markdown",
   "metadata": {},
   "source": [
    ">### ***Dictionary***\n",
    "\n",
    "1. It is unordered and immutable.\n",
    "2. It stores values in the form of key value pair.\n",
    "3. In this the keys are unique and immutable."
   ]
  },
  {
   "cell_type": "code",
   "execution_count": null,
   "metadata": {},
   "outputs": [],
   "source": []
  }
 ],
 "metadata": {
  "kernelspec": {
   "display_name": "Python 3",
   "language": "python",
   "name": "python3"
  },
  "language_info": {
   "codemirror_mode": {
    "name": "ipython",
    "version": 3
   },
   "file_extension": ".py",
   "mimetype": "text/x-python",
   "name": "python",
   "nbconvert_exporter": "python",
   "pygments_lexer": "ipython3",
   "version": "3.12.1"
  }
 },
 "nbformat": 4,
 "nbformat_minor": 2
}
