{
 "cells": [
  {
   "cell_type": "markdown",
   "metadata": {},
   "source": [
    "> ## ****OOPS CONCEPTS****"
   ]
  },
  {
   "cell_type": "code",
   "execution_count": 27,
   "metadata": {},
   "outputs": [
    {
     "name": "stdout",
     "output_type": "stream",
     "text": [
      "Inside display\n"
     ]
    }
   ],
   "source": [
    "class Person:\n",
    "    def display(self):\n",
    "        print('Inside display')\n",
    "\n",
    "\n",
    "man = Person()\n",
    "man.display()"
   ]
  },
  {
   "cell_type": "code",
   "execution_count": 28,
   "metadata": {},
   "outputs": [],
   "source": [
    "class Student:\n",
    "\n",
    "    \"\"\"creating student details object\"\"\"\n",
    "    def __init__(self, name, rollno):      # this is a Contructor -> parameterized constructor\n",
    "        self.name = name\n",
    "        self.rollno = rollno\n",
    "\n",
    "    name = \"shhiiivvaam\"\n",
    "\n",
    "    def show(self):\n",
    "        print(f\"name: {self.name} has rollno: {self.rollno}\")"
   ]
  },
  {
   "cell_type": "code",
   "execution_count": 29,
   "metadata": {},
   "outputs": [
    {
     "name": "stdout",
     "output_type": "stream",
     "text": [
      "<class '__main__.Student'>\n",
      "Shivam\n",
      "name: Shivam has rollno: 123\n"
     ]
    }
   ],
   "source": [
    "student1 = Student(\"Shivam\", 123)\n",
    "print(type(student1))\n",
    "\n",
    "print(student1.name)\n",
    "student1.show()"
   ]
  },
  {
   "cell_type": "markdown",
   "metadata": {},
   "source": [
    "> ### ***`Inheritance`***"
   ]
  },
  {
   "cell_type": "code",
   "execution_count": 30,
   "metadata": {},
   "outputs": [],
   "source": [
    "class Vehicle:\n",
    "    def __init__(self, speed):\n",
    "        self.speed = speed\n",
    "    \n",
    "    def display_speed(self):\n",
    "        print(f\"speed of Vehicle {self.speed}\")\n",
    "\n",
    "# Single Level Inheritance\n",
    "class Car(Vehicle):\n",
    "    def __init__(self, speed, brand):\n",
    "        super().__init__(speed)\n",
    "        self.brand = brand\n",
    "    \n",
    "    def display_brand(self):\n",
    "        print(f\"display {self.brand}\")\n",
    "\n",
    "# Multi Level Inheritance\n",
    "class Type(Car):\n",
    "    def __init__(self, speed, brand, type):\n",
    "        super().__init__(speed, brand)\n",
    "        self.type = type\n",
    "    \n",
    "    def display_type(self):\n",
    "        print(f\"display {self.type}\")"
   ]
  },
  {
   "cell_type": "code",
   "execution_count": 31,
   "metadata": {},
   "outputs": [
    {
     "name": "stdout",
     "output_type": "stream",
     "text": [
      "display thar\n",
      "None\n",
      "speed of Vehicle 200\n"
     ]
    }
   ],
   "source": [
    "mahindra = Car(200, \"thar\")\n",
    "print(mahindra.display_brand())\n",
    "mahindra.display_speed()"
   ]
  },
  {
   "cell_type": "code",
   "execution_count": 32,
   "metadata": {},
   "outputs": [
    {
     "name": "stdout",
     "output_type": "stream",
     "text": [
      "display SUV\n",
      "display thar\n",
      "None\n",
      "speed of Vehicle 200\n",
      "None\n"
     ]
    }
   ],
   "source": [
    "mahindra_hatchback = Type(200, \"thar\", \"SUV\")\n",
    "mahindra_hatchback.display_type()\n",
    "print(mahindra_hatchback.display_brand())\n",
    "print(mahindra_hatchback.display_speed())"
   ]
  },
  {
   "cell_type": "code",
   "execution_count": 35,
   "metadata": {},
   "outputs": [
    {
     "name": "stdout",
     "output_type": "stream",
     "text": [
      "thar\n",
      "SUV\n",
      "200\n"
     ]
    }
   ],
   "source": [
    "print(mahindra_hatchback.brand)\n",
    "print(mahindra_hatchback.type)\n",
    "print(mahindra_hatchback.speed)\n"
   ]
  },
  {
   "cell_type": "code",
   "execution_count": null,
   "metadata": {},
   "outputs": [],
   "source": []
  }
 ],
 "metadata": {
  "kernelspec": {
   "display_name": "Python 3",
   "language": "python",
   "name": "python3"
  },
  "language_info": {
   "codemirror_mode": {
    "name": "ipython",
    "version": 3
   },
   "file_extension": ".py",
   "mimetype": "text/x-python",
   "name": "python",
   "nbconvert_exporter": "python",
   "pygments_lexer": "ipython3",
   "version": "3.12.1"
  }
 },
 "nbformat": 4,
 "nbformat_minor": 2
}
