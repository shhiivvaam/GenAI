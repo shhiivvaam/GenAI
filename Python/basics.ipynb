{
 "cells": [
  {
   "cell_type": "markdown",
   "metadata": {},
   "source": [
    "> # ****Python Keywords, Identifiers, Comments, Indentation and Statements****"
   ]
  },
  {
   "cell_type": "code",
   "execution_count": 15,
   "metadata": {},
   "outputs": [
    {
     "name": "stdout",
     "output_type": "stream",
     "text": [
      "\n",
      "Here is a list of the Python keywords.  Enter any keyword to get more help.\n",
      "\n",
      "False               class               from                or\n",
      "None                continue            global              pass\n",
      "True                def                 if                  raise\n",
      "and                 del                 import              return\n",
      "as                  elif                in                  try\n",
      "assert              else                is                  while\n",
      "async               except              lambda              with\n",
      "await               finally             nonlocal            yield\n",
      "break               for                 not                 \n",
      "\n"
     ]
    }
   ],
   "source": [
    "help('keywords')"
   ]
  },
  {
   "cell_type": "markdown",
   "metadata": {},
   "source": [
    "### **Identifiers**"
   ]
  },
  {
   "cell_type": "code",
   "execution_count": 16,
   "metadata": {},
   "outputs": [],
   "source": [
    "# snake cases PEP8\n",
    "first_name = \"Shivam\"\n",
    "\n",
    "# camel case\n",
    "firstName = \"Shivam\"\n",
    "\n",
    "# capital letter -> Constant Values\n",
    "PIE = \"contant value\"\n",
    "\n",
    "# class   -> first letter capital\n",
    "class Person:\n",
    "    pass"
   ]
  },
  {
   "cell_type": "markdown",
   "metadata": {},
   "source": [
    "### **Indentation**"
   ]
  },
  {
   "cell_type": "code",
   "execution_count": 17,
   "metadata": {},
   "outputs": [
    {
     "name": "stdout",
     "output_type": "stream",
     "text": [
      "500\n",
      "Greater Value\n"
     ]
    }
   ],
   "source": [
    "x = 500\n",
    "if x>10:\n",
    "    print(x)\n",
    "    if(x>100):\n",
    "        print(\"Greater Value\")\n",
    "else:\n",
    "    print(\"less than 10\")"
   ]
  },
  {
   "cell_type": "markdown",
   "metadata": {},
   "source": [
    "### **Pseudo Codes**"
   ]
  },
  {
   "cell_type": "code",
   "execution_count": 18,
   "metadata": {},
   "outputs": [
    {
     "data": {
      "text/plain": [
       "'\\n        if num1> num2 then\\n        Display num1 is greater then num2\\n        else then\\n        Display num2 is greater\\n        end\\n'"
      ]
     },
     "execution_count": 18,
     "metadata": {},
     "output_type": "execute_result"
    }
   ],
   "source": [
    "# Pseudo Code\n",
    "\"\"\"\n",
    "    begin\n",
    "    NUM num1, num2\n",
    "    Display enter value1\n",
    "    Input num1\n",
    "    Display enter value2\n",
    "    Input num2\n",
    "\"\"\"\n",
    "\n",
    "\n",
    "\"\"\"\n",
    "        if num1> num2 then\n",
    "        Display num1 is greater then num2\n",
    "        else then\n",
    "        Display num2 is greater\n",
    "        end\n",
    "\"\"\""
   ]
  },
  {
   "cell_type": "markdown",
   "metadata": {},
   "source": [
    "> # ****Python -> Object, Strings, Numeric and boolean****"
   ]
  },
  {
   "cell_type": "markdown",
   "metadata": {},
   "source": [
    "### **Datatypes and their usage**"
   ]
  },
  {
   "cell_type": "code",
   "execution_count": 19,
   "metadata": {},
   "outputs": [
    {
     "name": "stdout",
     "output_type": "stream",
     "text": [
      "140708937808312\n",
      "<class 'int'>\n",
      "1\n",
      "3\n",
      "3.6\n",
      "(2+9j)\n",
      "False\n",
      "False\n",
      "False\n",
      "life.shivam2394@gmail.com\n",
      "LIFE.SHIVAM2394@GMAIL.COM\n",
      "Life.shivam2394@gmail.com\n",
      "life.shivam2394@gmail.com\n",
      "life.shivam2394$gmail.com\n",
      "life.shivam2394@gmail.com   life.shivam2394@gmail.com\n",
      "life.shivam2394@gmail.comlife.shivam2394@gmail.comlife.shivam2394@gmail.com\n",
      "<class 'bool'>\n",
      "True\n"
     ]
    }
   ],
   "source": [
    "# Integers, Float, Complex\n",
    "\n",
    "a = 1\n",
    "print(id(a))\n",
    "print(type(a))\n",
    "print(a)\n",
    "\n",
    "\n",
    "# integers -> 1, 2, -4, 2, 100, ....\n",
    "i = 3\n",
    "print(i)\n",
    "# float -> 1.2, 4.5, -100.34, ....\n",
    "f = 3.6\n",
    "print(f)\n",
    "# complex -> 1+2j\n",
    "c = 2+9j\n",
    "print(c)\n",
    "\n",
    "print(i == f)\n",
    "print(f == c)\n",
    "print(i == c)\n",
    "\n",
    "\n",
    "\n",
    "\n",
    "\n",
    "\n",
    "\n",
    "\n",
    "# Strings\n",
    "\n",
    "# string -> life.shivam2394@gmail.com\n",
    "s = \"life.shivam2394@gmail.com\"\n",
    "print(s)\n",
    "print(s.upper())\n",
    "print(s.capitalize())\n",
    "print(s.lower())\n",
    "print(s.replace('@', '$'))\n",
    "\n",
    "s[0:15]\n",
    "\n",
    "print(s+ \"   \" +s)\n",
    "print(s*3)\n",
    "\n",
    "\n",
    "\n",
    "\n",
    "\n",
    "\n",
    "\n",
    "# Boolean\n",
    "\n",
    "a = True\n",
    "print(type(a))\n",
    "print(a)\n"
   ]
  },
  {
   "cell_type": "markdown",
   "metadata": {},
   "source": [
    "### **Complex Datatypes**"
   ]
  },
  {
   "cell_type": "code",
   "execution_count": 20,
   "metadata": {},
   "outputs": [
    {
     "name": "stdout",
     "output_type": "stream",
     "text": [
      "[1, 2, 3, 4, 5, 6, 7, 8, 9, 10]\n",
      "<class 'list'>\n",
      "[1, 2, 3, 4, 5, 6, 7, 8, 9, 10, 11, 1]\n",
      "[1, 2, 3, 4, 5, 6, 7, 8, 9, 10, 11]\n",
      "[1, 2, 3, 4, 5, 6, 7, 8, 9, 10]\n",
      "[10, 9, 8, 7, 6, 5, 4, 3, 2, 1]\n",
      "[1, 2, 3, 4, 5, 6, 7, 8, 9, 10]\n",
      "(1, 2, 3, 4, 5, 6, 7, 8, 9, 10)\n",
      "<class 'tuple'>\n",
      "0\n",
      "1\n",
      "{'a': 1, 'b': -2.0, 'c': [1, 2, 3, 4], 'd': 'Hello', 'e': {}, 3.6: (1, 2, 3, 4)}\n",
      "<class 'dict'>\n",
      "{1: None, 2: None, 3: None, 4: None, 5: None, 6: None, 7: None, 8: None, 9: None, 10: None}\n",
      "dict_keys(['a', 'b', 'c', 'd', 'e', 3.6])\n",
      "dict_values([1, -2.0, [1, 2, 3, 4], 'Hello', {}, (1, 2, 3, 4)])\n",
      "{1, 2, 3, 100, 1000, 23, 89, -3, -1}\n"
     ]
    },
    {
     "data": {
      "text/plain": [
       "frozenset({1, 2, 3, 4, 5, 'a', 'b'})"
      ]
     },
     "execution_count": 20,
     "metadata": {},
     "output_type": "execute_result"
    }
   ],
   "source": [
    "# list = [1,2,3,4,5,....]\n",
    "\n",
    "num = [1,2,3,4,5,6,7,8,9,10]\n",
    "print(num)\n",
    "print(type(num))\n",
    "\n",
    "num.append(11)       # nums appends from the last\n",
    "num.append(1)\n",
    "print(num)\n",
    "\n",
    "num.pop()\n",
    "print(num)\n",
    "\n",
    "# num.insert(1,2,3,4, [4,5,6,7], \"a\" \"b\" ,\" c\" ,\"d\")        #\n",
    "\n",
    "num.remove(11)\n",
    "print(num)\n",
    "\n",
    "num.reverse()\n",
    "print(num)\n",
    "\n",
    "num.sort()\n",
    "print(num)\n",
    "\n",
    "\n",
    "\n",
    "\n",
    "\n",
    "# Tuples    (Since tuples are immutable, there are only two operation possible i.e, index() and count()\n",
    "\n",
    "num1 = (1,2,3,4,5,6,7,8,9,10)\n",
    "print(num1)\n",
    "print(type(num1))\n",
    "\n",
    "print(num1.index(1))          # this returns the index values of the argument given\n",
    "print(num1.count(2))          # this tells the count of the argument given\n",
    "\n",
    "\n",
    "\n",
    "\n",
    "\n",
    "\n",
    "\n",
    "# Dictionary\n",
    "\n",
    "# dict = {key1 = value1, key2 = value2.....}\n",
    "d = {'a': 1, 'b': -2.0, 'c':[1,2,3,4], 'd':\"Hello\", 'e':{}, f: (1,2,3,4)}\n",
    "print(d)\n",
    "print(type(d))\n",
    "\n",
    "print(d.fromkeys(num1))\n",
    "print(d.keys())\n",
    "print(d.values())\n",
    "\n",
    "\n",
    "\n",
    "\n",
    "\n",
    "\n",
    "\n",
    "# Set = {}      # This remove all the duplicate values and stores only unique values, also it returns in sorted manner\n",
    "\n",
    "s = {1,2,3,23,100,1000, 1000, 1000, 1000,-1,-3,89}\n",
    "print(s)\n",
    "s                      # This rearranges the data and also sorts the data\n",
    "\n",
    "\n",
    "\n",
    "# FrozenSet                                    # FrozenSet works the same way as the set, the difference is that we cannot change the values inside a FrozenSet \n",
    "set = {1,2,3,4,5, \"a\", \"b\", \"a\", 1,2,3}\n",
    "set = frozenset(set);\n",
    "set"
   ]
  },
  {
   "cell_type": "markdown",
   "metadata": {},
   "source": [
    "### **User Input**"
   ]
  },
  {
   "cell_type": "code",
   "execution_count": 21,
   "metadata": {},
   "outputs": [
    {
     "name": "stdout",
     "output_type": "stream",
     "text": [
      "shhiivvaam\n"
     ]
    }
   ],
   "source": [
    "# Standard IO     -> Standard Input/ Output \n",
    "\n",
    "user_input = input(\"Enter your name : \")\n",
    "print(user_input)"
   ]
  },
  {
   "cell_type": "markdown",
   "metadata": {},
   "source": [
    "> # ****Python -> Operators****"
   ]
  },
  {
   "cell_type": "markdown",
   "metadata": {},
   "source": [
    "### **Arithmetic Operators**"
   ]
  },
  {
   "cell_type": "code",
   "execution_count": 22,
   "metadata": {},
   "outputs": [],
   "source": [
    "# Addition (+)\n",
    "# Subtraction (-)\n",
    "# Mutliplication (*)\n",
    "# Division (/)\n",
    "# Modulus (%)\n",
    "# Exponentiation (**)"
   ]
  },
  {
   "cell_type": "markdown",
   "metadata": {},
   "source": [
    "### **Comparison Operators**"
   ]
  },
  {
   "cell_type": "code",
   "execution_count": 23,
   "metadata": {},
   "outputs": [],
   "source": [
    "# Equal to (==)\n",
    "# Not Equal to (!=)\n",
    "# Greater than (>)\n",
    "# Less than (<)\n",
    "# Greater than or equal to (>=)\n",
    "# Less than or equal to (<=)"
   ]
  },
  {
   "cell_type": "markdown",
   "metadata": {},
   "source": [
    "### **Logical Operators**"
   ]
  },
  {
   "cell_type": "code",
   "execution_count": 24,
   "metadata": {},
   "outputs": [],
   "source": [
    "# Logical AND\n",
    "# Logical OR\n",
    "# Logical NOT (not)"
   ]
  },
  {
   "cell_type": "markdown",
   "metadata": {},
   "source": [
    "### **Bitwise Operators**"
   ]
  },
  {
   "cell_type": "code",
   "execution_count": 25,
   "metadata": {},
   "outputs": [],
   "source": [
    "# Bitwise AND (&)\n",
    "# Bitwise OR (|)\n",
    "# Bitwise NOt (~)\n",
    "# Bitwise XOR (^)\n",
    "# Left Shift (<<)\n",
    "# Right Shift (>>)"
   ]
  },
  {
   "cell_type": "markdown",
   "metadata": {},
   "source": [
    "### **Assignment Operators**"
   ]
  },
  {
   "cell_type": "code",
   "execution_count": 26,
   "metadata": {},
   "outputs": [],
   "source": [
    "# Assignment (=)\n",
    "# Addition Assignment (+=)\n",
    "# Subtraction Assignment (-=)\n",
    "# Multiplication Assignment (*=)\n",
    "# Division Assignment (/=)"
   ]
  },
  {
   "cell_type": "markdown",
   "metadata": {},
   "source": [
    "### **Membership Operators**"
   ]
  },
  {
   "cell_type": "code",
   "execution_count": 27,
   "metadata": {},
   "outputs": [],
   "source": [
    "# in           # 'z' in 'Sahil'         > returns False\n",
    "# not in       # 'z' not in 'Sahil'     > returns True"
   ]
  },
  {
   "cell_type": "markdown",
   "metadata": {},
   "source": [
    "### **Identity Operators**"
   ]
  },
  {
   "cell_type": "code",
   "execution_count": 28,
   "metadata": {},
   "outputs": [],
   "source": [
    "# is             # x is y\n",
    "# is not         # x is not y    > returns { True || False}"
   ]
  },
  {
   "cell_type": "markdown",
   "metadata": {},
   "source": [
    "> # ****Python -> Type Conversion****"
   ]
  },
  {
   "cell_type": "code",
   "execution_count": 29,
   "metadata": {},
   "outputs": [
    {
     "name": "stdout",
     "output_type": "stream",
     "text": [
      "6.5\n",
      "8\n",
      "<class 'str'>\n",
      "8\n",
      "<class 'int'>\n",
      "4.0\n",
      "1\n",
      "2\n",
      "2\n"
     ]
    }
   ],
   "source": [
    "# Implicit Type Conversion\n",
    "x = 2\n",
    "y = 4.5\n",
    "add = x + y\n",
    "print(add)        # Automatic type conversion - Implicit Type Conversion\n",
    "\n",
    "\n",
    "\n",
    "\n",
    "\n",
    "# Explicit Type Conversion\n",
    "x = input(\"Enter any number : \")\n",
    "print(x)\n",
    "print(type(x))             # by default the behaviour of python is that, it will take the argument in String format, not dependent in out input argument\n",
    "\n",
    "\n",
    "x = (int(input(\"Enter any number : \")))                  # here we are performing explicit type conversion\n",
    "print(x)\n",
    "print(type(x))\n",
    "\n",
    "\n",
    "x = 4\n",
    "y = float(x)\n",
    "print(y)\n",
    "\n",
    "\n",
    "\n",
    "mixed = [1, \"2\", 2.3]\n",
    "\n",
    "int_val = (int)(mixed[0])\n",
    "print(int_val)\n",
    "int_val = (int)(mixed[1])\n",
    "print(int_val)\n",
    "int_val = (int)(mixed[2])\n",
    "print(int_val)"
   ]
  },
  {
   "cell_type": "markdown",
   "metadata": {},
   "source": [
    "> # ****Python -> Control Flow Statements****"
   ]
  },
  {
   "cell_type": "code",
   "execution_count": 30,
   "metadata": {},
   "outputs": [
    {
     "name": "stdout",
     "output_type": "stream",
     "text": [
      "Shivam\n",
      "Surya\n",
      "Rakshit\n",
      "\n",
      "Shivam\n",
      "S h i v a m \n",
      "Surya\n",
      "S u r y a \n",
      "Rakshit\n",
      "R a k s h i t \n",
      "\n",
      "0 1 2 3 4 5 6 7 8 9 10 11 12 13 14 15 16 17 18 19 \n",
      "* \n",
      "* * \n",
      "* * * \n",
      "* * * * \n",
      "* * * * * \n",
      "\n",
      "4 3 2 1 0 \n",
      "5 6 7 8 9 \n",
      "1 3 5 7 9 11 13 15 17 19 \n",
      "1 2 3 4 5 6 7 8 \n",
      "1 2 3 4 5 6 7 8 9 11 12 13 14 15 16 17 18 19 \n"
     ]
    }
   ],
   "source": [
    "# conditional statement -> if elif else\n",
    "# looping statement -> for while\n",
    "# control flow -> break and continue\n",
    "\n",
    "\n",
    "\n",
    "\"\"\"\n",
    "    looping statement\n",
    "\"\"\"\n",
    "\n",
    "# for\n",
    "names = [\"Shivam\", \"Surya\", \"Rakshit\"]\n",
    "for name in names:\n",
    "    print(name)\n",
    "print()\n",
    "\n",
    "for name in names:\n",
    "    print(name)\n",
    "    for char in name:\n",
    "        print(char, end=\" \")\n",
    "    print()\n",
    "print()\n",
    "\n",
    "for i in range(20):            # indexing starts from 0 only\n",
    "    print(i, end=\" \")\n",
    "print()\n",
    "\n",
    "for i in range (5):\n",
    "    for j in range(i+1):\n",
    "        print(\"*\", end = \" \")\n",
    "    print()\n",
    "print()\n",
    "\n",
    "\n",
    "for i in range (5)[::-1]:      # this prints in reverse order  ( started from the loop last and end to the loops start)\n",
    "    print(i, end=\" \")\n",
    "print()\n",
    "\n",
    "\n",
    "# while\n",
    "x = 5\n",
    "while x<10:\n",
    "    print(x, end=\" \")\n",
    "    x +=1\n",
    "print()\n",
    "\n",
    "\n",
    "\n",
    "\n",
    "\n",
    "\n",
    "\"\"\"\n",
    "    Control Flow\n",
    "\"\"\"\n",
    "\n",
    "# break continue and range\n",
    "\n",
    "# range  -> step range\n",
    "for i in range(1, 20, 2):\n",
    "    print(i, end=\" \")\n",
    "print()\n",
    "\n",
    "# break\n",
    "for i in range(1, 20):\n",
    "    if i > 8:\n",
    "        break\n",
    "    print(i, end=\" \")\n",
    "print()\n",
    "\n",
    "# continue\n",
    "for i in range(1, 20):\n",
    "    if i == 10:\n",
    "        continue\n",
    "    print(i, end=\" \")\n",
    "print()"
   ]
  },
  {
   "cell_type": "code",
   "execution_count": 31,
   "metadata": {},
   "outputs": [
    {
     "name": "stdout",
     "output_type": "stream",
     "text": [
      "Incorrect Password\n",
      "Welcome!! You are successfully Logged In!!\n"
     ]
    }
   ],
   "source": [
    "sec_pass = \"secure@123\"\n",
    "password = input(\"Enter the password: \")\n",
    "\n",
    "while(password != sec_pass):\n",
    "    print(\"Incorrect Password\")\n",
    "    password = input(\"Enter the password again:\")\n",
    "print(\"Welcome!! You are successfully Logged In!!\")"
   ]
  },
  {
   "cell_type": "markdown",
   "metadata": {},
   "source": [
    "> # ****Python -> NameSpace****"
   ]
  },
  {
   "cell_type": "code",
   "execution_count": 32,
   "metadata": {},
   "outputs": [
    {
     "name": "stdout",
     "output_type": "stream",
     "text": [
      "Printing variable inside the Function : 10\n",
      "Printing variable: local_var -> 10\n",
      "Printing variable inside the Function : inner_fun -> 10\n",
      "Printing variable inside the Function: global_var -> 30\n"
     ]
    }
   ],
   "source": [
    "# local NameSpace\n",
    "def greet():\n",
    "    local_var = 10                    # This is a local variable and can only be accessed inside the Function only\n",
    "    print(f\"Printing variable inside the Function : {local_var}\")\n",
    "\n",
    "greet()\n",
    "\n",
    "# Enclosing NameSpace\n",
    "def greet_inner():\n",
    "    local_var = 10\n",
    "    print(f\"Printing variable: local_var -> {local_var}\")\n",
    "    def inner_fun():\n",
    "        print(f\"Printing variable inside the Function : inner_fun -> {local_var}\")\n",
    "    inner_fun()\n",
    "\n",
    "greet_inner()\n",
    "\n",
    "# Global NameSpace\n",
    "global_var = 30\n",
    "def greet():\n",
    "    print(f\"Printing variable inside the Function: global_var -> {global_var}\")\n",
    "\n",
    "greet()\n",
    "\n",
    "\n",
    "\n",
    "# Built in NameSpace\n",
    "    # -> print, input"
   ]
  },
  {
   "cell_type": "markdown",
   "metadata": {},
   "source": [
    "> # ****`Lambda Function`****"
   ]
  },
  {
   "cell_type": "code",
   "execution_count": 24,
   "metadata": {},
   "outputs": [
    {
     "name": "stdout",
     "output_type": "stream",
     "text": [
      "212.0\n",
      "[50.0, 53.6, 57.2, 60.8, 64.4, 68.0, 71.6, 75.2, 78.8, 82.4, 86.0, 89.6, 93.2, 96.8, 100.4, 104.0, 107.6, 111.2, 114.8, 118.4]\n",
      "[50.0, 53.6, 57.2, 60.8, 64.4, 68.0, 71.6, 75.2, 78.8, 82.4, 86.0, 89.6, 93.2, 96.8, 100.4, 104.0, 107.6, 111.2, 114.8, 118.4]\n",
      "[1, 2, 3, 4, 5, 6, 7, 8, 9]\n",
      "['life.shivam2394@gmail.com', 'highthackers.04@gmail.com', 'shivamksskssls04@gmail.com', 'shivamkssks04@gmail.com']\n",
      "['life.shivam2394@gmail.com', 'highthackers.04@gmail.com', 'shivamksskssls04@gmail.com', 'shivamkssks04@gmail.com']\n"
     ]
    }
   ],
   "source": [
    "# create a lamba for temperature converter : celsius to farh\n",
    "\n",
    "temp = lambda x: (x*9/5)+32\n",
    "print(temp(100))\n",
    "\n",
    "# list comprehesion using lambda function\n",
    "even_num = [(lambda x: (x*9/5)+32)(i)   for i in range (10, 50)   if i%2 == 0]\n",
    "print(even_num)\n",
    "\n",
    "odd_num = [(lambda x: (x*9/5)+32)(i)    for i in range(10, 50)    if i%2 == 0]\n",
    "print(odd_num)\n",
    "\n",
    "num = [i for i in range(1, 10)]\n",
    "print(num)\n",
    "\n",
    "\n",
    "# Analogy: Collecting email addresses for a @example.com\n",
    "email_addresses = ['life.shivam2394@gmail.com', 'highthackers.04@gmail.com', 'shivamkumar_cs.aiml21@gla.ac.in', 'shivamksskssls04@gmail.com', 'shivamkssks04@gmail.com']\n",
    "\n",
    "# both will work the same\n",
    "collected = list(email    for email in email_addresses     if email.endswith('@gmail.com'))\n",
    "collected = [email    for email in email_addresses     if email.endswith('@gmail.com')]\n",
    "\n",
    "collected_new = [email    for email in email_addresses     if '@gmail.com' in email]\n",
    "print(collected)\n",
    "print(collected_new)"
   ]
  },
  {
   "cell_type": "markdown",
   "metadata": {},
   "source": [
    "> ## ****`Map & Filters`****"
   ]
  },
  {
   "cell_type": "code",
   "execution_count": 33,
   "metadata": {},
   "outputs": [
    {
     "name": "stdout",
     "output_type": "stream",
     "text": [
      "[0, 1, 4, 9, 16, 25, 36, 49, 64, 81]\n",
      "[0, 1, 4, 9, 16, 25, 36, 49, 64, 81]\n",
      "[0, 2, 4, 6, 8]\n"
     ]
    }
   ],
   "source": [
    "# map\n",
    "\n",
    "number = [i for i in range(10)]\n",
    "\n",
    "# squared_num = [(lambda x: x**2)(i) for i in range(10)]\n",
    "squared_num = [(lambda x: x**2)(i) for i in number]\n",
    "print(squared_num)\n",
    "\n",
    "squared_num_map = list(map(lambda x: x**2, number))\n",
    "print(squared_num_map)\n",
    "\n",
    "# filtered_even_num = list(filter(lambda x: x%2== 0, number))\n",
    "filtered_even_num = list(filter(lambda x: x%2== 0, [i for i in range(10)]))\n",
    "print(filtered_even_num)"
   ]
  },
  {
   "cell_type": "code",
   "execution_count": 36,
   "metadata": {},
   "outputs": [
    {
     "name": "stdout",
     "output_type": "stream",
     "text": [
      "[30, 24, 18]\n",
      "[84, 69, 54]\n",
      "[138, 114, 90]\n"
     ]
    }
   ],
   "source": [
    "# matrix multiplication\n",
    "\n",
    "matrix_A = [[1,2,3], \n",
    "            [4,5,6], \n",
    "            [7,8,9]]\n",
    "\n",
    "matrix_B = [[9,8,7], \n",
    "            [6,5,4], \n",
    "            [3,2,1]]\n",
    "\n",
    "result = [[0,0,0], \n",
    "            [0,0,0], \n",
    "            [0,0,0]]\n",
    "\n",
    "for i in range(len(matrix_A)):\n",
    "    for j in range(len(matrix_B[0])):\n",
    "        for k in range(len(result)):\n",
    "            result[i][j] += matrix_A[i][k] * matrix_B[k][j]\n",
    "\n",
    "for i in result:\n",
    "    print(i)"
   ]
  },
  {
   "cell_type": "markdown",
   "metadata": {},
   "source": [
    "> ### ****`Python Basic Commands`****"
   ]
  },
  {
   "cell_type": "code",
   "execution_count": 60,
   "metadata": {},
   "outputs": [
    {
     "name": "stdout",
     "output_type": "stream",
     "text": [
      "Shivam\n",
      "Shivam     Kumar     Singh\n",
      "['Shivam', ' Kumar', ' Singh']\n",
      "a qUICK bROWN fOX jUMPS oVER THE lAZY dOG\n",
      "\n",
      "        B4/004, Supertech Ecovillage 1,\n",
      "        Greater Noida(west),\n",
      "        Gautam Budh Nagar, 201306\n",
      "\n",
      "Shiavam is a Good Boy\n",
      "And he believes that he is a Good Developer\n",
      "He likes to develop both Web and Mobile Applications\n",
      "Name\tAge\tGrade\n",
      "Shivam\t20\tA++\n",
      "Kumar\t20\tB++\n",
      "Singh\t20\tC++\n",
      "\n",
      "Hello I'm Shivam\n",
      "Shivam here\n",
      "Hello there Shivam Kumar Singh is my name\n",
      "Hello, Shivam here with Singh\n",
      "Hello, Shivam here with Singh\n",
      "Be right back, Talk to you Later, Laughing out loud\n",
      "True\n",
      "['Shivam', 1, 2, 3, 3, 4, 5]\n",
      "['Shivam', 1, 2, 3, 3, 4, 5]\n",
      "['Singh', 1, 2, 3, 3, 4, 5]\n",
      "['Shivam', 1, 2, 3, 3, 4, 5]\n",
      "['Algorithms', 'Data Science', 'Data Structures', 'Web Dev']\n",
      "3\n",
      "1\n",
      "['Algorithms', 'Data Science', 'Data Structures', 'Web Dev']\n",
      "['Algorithms', 'Data Science', 'Data Structures', 'Web Dev']\n",
      "Web Dev\n",
      "Data Science\n",
      "['Algorithms', 'Data Structures', 'appendedd_alpha']\n",
      "[]\n",
      "[[1, 4], [1, 5], [1, 6], [2, 4], [2, 5], [2, 6], [3, 4], [3, 5], [3, 6]]\n",
      "[[1, 4], [1, 5], [1, 6], [2, 4], [2, 5], [2, 6], [3, 4], [3, 5], [3, 6]]\n"
     ]
    }
   ],
   "source": [
    "# strip() :  This will remove all th extra spaces from the left and right end\n",
    "name = \"Shivam   \"\n",
    "print(name.strip())\n",
    "\n",
    "shivam = \"          Shivam     Kumar     Singh           \"\n",
    "print(shivam.strip())\n",
    "\n",
    "\n",
    "# split('what_to_split_on')  : This will split the string on the basis of the given attribute\n",
    "names = \"Shivam, Kumar, Singh\"\n",
    "print(names.split(\",\"))\n",
    "\n",
    "\n",
    "# swapcase() :  This will swap(change) the case of the letters in the string.\n",
    "english = \"A Quick Brown Fox Jumps Over the Lazy Dog\"\n",
    "print(english.swapcase())\n",
    "\n",
    "# multiline string\n",
    "family = \"\"\"\n",
    "        B4/004, Supertech Ecovillage 1,\n",
    "        Greater Noida(west),\n",
    "        Gautam Budh Nagar, 201306\n",
    "\"\"\"\n",
    "\n",
    "print(family)\n",
    "\n",
    "# escape sequence : \\n is used for new line \\t is used for tab space etc.\n",
    "escape_sequence = \"\"\"Shiavam is a Good Boy\\nAnd he believes that he is a Good Developer\\nHe likes to develop both Web and Mobile Applications\"\"\"\n",
    "print(escape_sequence)\n",
    "# family\n",
    "\n",
    "# table  : This is a table created using the escape sequences\n",
    "table = \"Name\\tAge\\tGrade\\nShivam\\t20\\tA++\\nKumar\\t20\\tB++\\nSingh\\t20\\tC++\\n\"\n",
    "print(table)\n",
    "\n",
    "# single quote string\n",
    "str = 'Hello I\\'m Shivam'\n",
    "print(str)\n",
    "\n",
    "\n",
    "# Carriage Return (\\r) : Wherever this is place in the string, the execution will begin form that point only. It move the cursor to that point\n",
    "print(\"Hello \\rShivam here\")\n",
    "\n",
    "# String Formatting : makign dynamic strings >> creating string with placeholder for variables\n",
    "name = \"Shivam\"\n",
    "f\"Hello {name} here\"\n",
    "\n",
    "name = \"Shivam Kumar Singh\"\n",
    "str = \"Hello there %s is my name\" %name\n",
    "print(str)\n",
    "\n",
    "# .format\n",
    "template = \"Hello, {} here with {}\".format(\"Shivam\", \"Singh\")\n",
    "print(template)\n",
    "# OR\n",
    "template = \"Hello, {} here with {}\"\n",
    "template = template.format(\"Shivam\", \"Singh\")\n",
    "print(template)\n",
    "\n",
    "# replace\n",
    "text = \"BRB, TTYL, LOL\"\n",
    "text = text.replace(\"BRB\", \"Be right back\").replace(\"TTYL\", \"Talk to you Later\").replace(\"LOL\", \"Laughing out loud\")\n",
    "print(text)\n",
    "\n",
    "# alpha Numeric\n",
    "a = \"ABCabc123\"\n",
    "print(a.isalnum())\n",
    "\n",
    "\n",
    "# Deep Copy and Shallow Copy\n",
    "\n",
    "# Shallow Copy  : Values will change with change in the list\n",
    "a = [\"Hello\", 1,2,3,3,4,5];\n",
    "b = a;\n",
    "\n",
    "a[0] = \"Shivam\"\n",
    "print(a)\n",
    "print(b)\n",
    "\n",
    "\n",
    "# Deep Copy   : Values will not change with change in the list\n",
    "c = a.copy()\n",
    "a[0] = \"Singh\"\n",
    "print(a)\n",
    "print(c)\n",
    "\n",
    "\n",
    "\n",
    "# Sorting List\n",
    "list = [\"Data Structures\", \"Algorithms\", \"Web Dev\", \"Data Science\"]\n",
    "list = sorted(list)\n",
    "print(list)\n",
    "print(list.index(\"Web Dev\"))\n",
    "print(list.count(\"Data Science\"))\n",
    "\n",
    "list_name = [\"Data Structures\", \"Algorithms\", \"Web Dev\", \"Data Science\"]\n",
    "list_name.sort()\n",
    "print(list_name)\n",
    "\n",
    "\n",
    "#! del List  : This wil completely delete the list defined\n",
    "# del list_name\n",
    "# print(list_name)\n",
    "\n",
    "print(list)\n",
    "print(list.pop())    # This will pop the last indexed element from the list\n",
    "print(list.pop(1))  # This will pop the specified indexed element from the list\n",
    "list.append(\"appendedd_alpha\")\n",
    "print(list)\n",
    "list.clear()\n",
    "print(list)\n",
    "\n",
    "\n",
    "\n",
    "# List Comprehension\n",
    "pairs = []\n",
    "for x in [1,2,3]:\n",
    "        for y in [4,5,6]:\n",
    "                pairs.append([x, y])\n",
    "print(pairs)\n",
    "# OR\n",
    "demo = [[x, y] for x in [1,2,3] for y in [4,5,6]]\n",
    "print(demo)"
   ]
  },
  {
   "cell_type": "code",
   "execution_count": 1,
   "metadata": {},
   "outputs": [
    {
     "name": "stdout",
     "output_type": "stream",
     "text": [
      "deque(['cus 1', 'cus 2', 'cus 3', 'cus 4', 'cus 5'])\n",
      "serving:  cus 1\n",
      "serving:  cus 2\n",
      "serving:  cus 3\n",
      "serving:  cus 4\n",
      "serving:  cus 5\n"
     ]
    }
   ],
   "source": [
    "# Queues in Python\n",
    "\n",
    "from collections import deque\n",
    "\n",
    "checkout = deque()\n",
    "\n",
    "checkout.append(\"cus 1\");\n",
    "checkout.append(\"cus 2\");\n",
    "checkout.append(\"cus 3\");\n",
    "checkout.append(\"cus 4\");\n",
    "checkout.append(\"cus 5\");\n",
    "\n",
    "print(checkout)\n",
    "\n",
    "while checkout:\n",
    "    customer = checkout.popleft()\n",
    "    print(\"serving: \", customer)"
   ]
  },
  {
   "cell_type": "code",
   "execution_count": 2,
   "metadata": {},
   "outputs": [
    {
     "name": "stdout",
     "output_type": "stream",
     "text": [
      "Printing jobs:  Print job 1\n",
      "Printing jobs:  Print job 2\n",
      "Printing jobs:  Print job 3\n",
      "Printing jobs:  Print job 4\n",
      "Printing jobs:  Print job 5\n"
     ]
    }
   ],
   "source": [
    "from queue import Queue\n",
    "\n",
    "print_queue = Queue()\n",
    "\n",
    "print_queue.put(\"Print job 1\");\n",
    "print_queue.put(\"Print job 2\");\n",
    "print_queue.put(\"Print job 3\");\n",
    "print_queue.put(\"Print job 4\");\n",
    "print_queue.put(\"Print job 5\");\n",
    "\n",
    "while not print_queue.empty():\n",
    "    print_job = print_queue.get()\n",
    "    print(\"Printing jobs: \", print_job)"
   ]
  },
  {
   "cell_type": "code",
   "execution_count": null,
   "metadata": {},
   "outputs": [],
   "source": []
  }
 ],
 "metadata": {
  "kernelspec": {
   "display_name": "Python 3",
   "language": "python",
   "name": "python3"
  },
  "language_info": {
   "codemirror_mode": {
    "name": "ipython",
    "version": 3
   },
   "file_extension": ".py",
   "mimetype": "text/x-python",
   "name": "python",
   "nbconvert_exporter": "python",
   "pygments_lexer": "ipython3",
   "version": "3.12.1"
  }
 },
 "nbformat": 4,
 "nbformat_minor": 2
}
