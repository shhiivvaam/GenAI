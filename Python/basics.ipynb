{
 "cells": [
  {
   "cell_type": "markdown",
   "metadata": {},
   "source": [
    "> # ****Python Keywords, Identifiers, Comments, Indentation and Statements****"
   ]
  },
  {
   "cell_type": "code",
   "execution_count": 15,
   "metadata": {},
   "outputs": [
    {
     "name": "stdout",
     "output_type": "stream",
     "text": [
      "\n",
      "Here is a list of the Python keywords.  Enter any keyword to get more help.\n",
      "\n",
      "False               class               from                or\n",
      "None                continue            global              pass\n",
      "True                def                 if                  raise\n",
      "and                 del                 import              return\n",
      "as                  elif                in                  try\n",
      "assert              else                is                  while\n",
      "async               except              lambda              with\n",
      "await               finally             nonlocal            yield\n",
      "break               for                 not                 \n",
      "\n"
     ]
    }
   ],
   "source": [
    "help('keywords')"
   ]
  },
  {
   "cell_type": "markdown",
   "metadata": {},
   "source": [
    "### **Identifiers**"
   ]
  },
  {
   "cell_type": "code",
   "execution_count": 16,
   "metadata": {},
   "outputs": [],
   "source": [
    "# snake cases PEP8\n",
    "first_name = \"Shivam\"\n",
    "\n",
    "# camel case\n",
    "firstName = \"Shivam\"\n",
    "\n",
    "# capital letter -> Constant Values\n",
    "PIE = \"contant value\"\n",
    "\n",
    "# class   -> first letter capital\n",
    "class Person:\n",
    "    pass"
   ]
  },
  {
   "cell_type": "markdown",
   "metadata": {},
   "source": [
    "### **Indentation**"
   ]
  },
  {
   "cell_type": "code",
   "execution_count": 17,
   "metadata": {},
   "outputs": [
    {
     "name": "stdout",
     "output_type": "stream",
     "text": [
      "500\n",
      "Greater Value\n"
     ]
    }
   ],
   "source": [
    "x = 500\n",
    "if x>10:\n",
    "    print(x)\n",
    "    if(x>100):\n",
    "        print(\"Greater Value\")\n",
    "else:\n",
    "    print(\"less than 10\")"
   ]
  },
  {
   "cell_type": "markdown",
   "metadata": {},
   "source": [
    "### **Pseudo Codes**"
   ]
  },
  {
   "cell_type": "code",
   "execution_count": 18,
   "metadata": {},
   "outputs": [
    {
     "data": {
      "text/plain": [
       "'\\n        if num1> num2 then\\n        Display num1 is greater then num2\\n        else then\\n        Display num2 is greater\\n        end\\n'"
      ]
     },
     "execution_count": 18,
     "metadata": {},
     "output_type": "execute_result"
    }
   ],
   "source": [
    "# Pseudo Code\n",
    "\"\"\"\n",
    "    begin\n",
    "    NUM num1, num2\n",
    "    Display enter value1\n",
    "    Input num1\n",
    "    Display enter value2\n",
    "    Input num2\n",
    "\"\"\"\n",
    "\n",
    "\n",
    "\"\"\"\n",
    "        if num1> num2 then\n",
    "        Display num1 is greater then num2\n",
    "        else then\n",
    "        Display num2 is greater\n",
    "        end\n",
    "\"\"\""
   ]
  },
  {
   "cell_type": "markdown",
   "metadata": {},
   "source": [
    "> # ****Python -> Object, Strings, Numeric and boolean****"
   ]
  },
  {
   "cell_type": "markdown",
   "metadata": {},
   "source": [
    "### **Datatypes and their usage**"
   ]
  },
  {
   "cell_type": "code",
   "execution_count": 19,
   "metadata": {},
   "outputs": [
    {
     "name": "stdout",
     "output_type": "stream",
     "text": [
      "140708937808312\n",
      "<class 'int'>\n",
      "1\n",
      "3\n",
      "3.6\n",
      "(2+9j)\n",
      "False\n",
      "False\n",
      "False\n",
      "life.shivam2394@gmail.com\n",
      "LIFE.SHIVAM2394@GMAIL.COM\n",
      "Life.shivam2394@gmail.com\n",
      "life.shivam2394@gmail.com\n",
      "life.shivam2394$gmail.com\n",
      "life.shivam2394@gmail.com   life.shivam2394@gmail.com\n",
      "life.shivam2394@gmail.comlife.shivam2394@gmail.comlife.shivam2394@gmail.com\n",
      "<class 'bool'>\n",
      "True\n"
     ]
    }
   ],
   "source": [
    "# Integers, Float, Complex\n",
    "\n",
    "a = 1\n",
    "print(id(a))\n",
    "print(type(a))\n",
    "print(a)\n",
    "\n",
    "\n",
    "# integers -> 1, 2, -4, 2, 100, ....\n",
    "i = 3\n",
    "print(i)\n",
    "# float -> 1.2, 4.5, -100.34, ....\n",
    "f = 3.6\n",
    "print(f)\n",
    "# complex -> 1+2j\n",
    "c = 2+9j\n",
    "print(c)\n",
    "\n",
    "print(i == f)\n",
    "print(f == c)\n",
    "print(i == c)\n",
    "\n",
    "\n",
    "\n",
    "\n",
    "\n",
    "\n",
    "\n",
    "\n",
    "# Strings\n",
    "\n",
    "# string -> life.shivam2394@gmail.com\n",
    "s = \"life.shivam2394@gmail.com\"\n",
    "print(s)\n",
    "print(s.upper())\n",
    "print(s.capitalize())\n",
    "print(s.lower())\n",
    "print(s.replace('@', '$'))\n",
    "\n",
    "s[0:15]\n",
    "\n",
    "print(s+ \"   \" +s)\n",
    "print(s*3)\n",
    "\n",
    "\n",
    "\n",
    "\n",
    "\n",
    "\n",
    "\n",
    "# Boolean\n",
    "\n",
    "a = True\n",
    "print(type(a))\n",
    "print(a)\n"
   ]
  },
  {
   "cell_type": "markdown",
   "metadata": {},
   "source": [
    "### **Complex Datatypes**"
   ]
  },
  {
   "cell_type": "code",
   "execution_count": 20,
   "metadata": {},
   "outputs": [
    {
     "name": "stdout",
     "output_type": "stream",
     "text": [
      "[1, 2, 3, 4, 5, 6, 7, 8, 9, 10]\n",
      "<class 'list'>\n",
      "[1, 2, 3, 4, 5, 6, 7, 8, 9, 10, 11, 1]\n",
      "[1, 2, 3, 4, 5, 6, 7, 8, 9, 10, 11]\n",
      "[1, 2, 3, 4, 5, 6, 7, 8, 9, 10]\n",
      "[10, 9, 8, 7, 6, 5, 4, 3, 2, 1]\n",
      "[1, 2, 3, 4, 5, 6, 7, 8, 9, 10]\n",
      "(1, 2, 3, 4, 5, 6, 7, 8, 9, 10)\n",
      "<class 'tuple'>\n",
      "0\n",
      "1\n",
      "{'a': 1, 'b': -2.0, 'c': [1, 2, 3, 4], 'd': 'Hello', 'e': {}, 3.6: (1, 2, 3, 4)}\n",
      "<class 'dict'>\n",
      "{1: None, 2: None, 3: None, 4: None, 5: None, 6: None, 7: None, 8: None, 9: None, 10: None}\n",
      "dict_keys(['a', 'b', 'c', 'd', 'e', 3.6])\n",
      "dict_values([1, -2.0, [1, 2, 3, 4], 'Hello', {}, (1, 2, 3, 4)])\n",
      "{1, 2, 3, 100, 1000, 23, 89, -3, -1}\n"
     ]
    },
    {
     "data": {
      "text/plain": [
       "frozenset({1, 2, 3, 4, 5, 'a', 'b'})"
      ]
     },
     "execution_count": 20,
     "metadata": {},
     "output_type": "execute_result"
    }
   ],
   "source": [
    "# list = [1,2,3,4,5,....]\n",
    "\n",
    "num = [1,2,3,4,5,6,7,8,9,10]\n",
    "print(num)\n",
    "print(type(num))\n",
    "\n",
    "num.append(11)       # nums appends from the last\n",
    "num.append(1)\n",
    "print(num)\n",
    "\n",
    "num.pop()\n",
    "print(num)\n",
    "\n",
    "# num.insert(1,2,3,4, [4,5,6,7], \"a\" \"b\" ,\" c\" ,\"d\")        #\n",
    "\n",
    "num.remove(11)\n",
    "print(num)\n",
    "\n",
    "num.reverse()\n",
    "print(num)\n",
    "\n",
    "num.sort()\n",
    "print(num)\n",
    "\n",
    "\n",
    "\n",
    "\n",
    "\n",
    "# Tuples    (Since tuples are immutable, there are only two operation possible i.e, index() and count()\n",
    "\n",
    "num1 = (1,2,3,4,5,6,7,8,9,10)\n",
    "print(num1)\n",
    "print(type(num1))\n",
    "\n",
    "print(num1.index(1))          # this returns the index values of the argument given\n",
    "print(num1.count(2))          # this tells the count of the argument given\n",
    "\n",
    "\n",
    "\n",
    "\n",
    "\n",
    "\n",
    "\n",
    "# Dictionary\n",
    "\n",
    "# dict = {key1 = value1, key2 = value2.....}\n",
    "d = {'a': 1, 'b': -2.0, 'c':[1,2,3,4], 'd':\"Hello\", 'e':{}, f: (1,2,3,4)}\n",
    "print(d)\n",
    "print(type(d))\n",
    "\n",
    "print(d.fromkeys(num1))\n",
    "print(d.keys())\n",
    "print(d.values())\n",
    "\n",
    "\n",
    "\n",
    "\n",
    "\n",
    "\n",
    "\n",
    "# Set = {}      # This remove all the duplicate values and stores only unique values, also it returns in sorted manner\n",
    "\n",
    "s = {1,2,3,23,100,1000, 1000, 1000, 1000,-1,-3,89}\n",
    "print(s)\n",
    "s                      # This rearranges the data and also sorts the data\n",
    "\n",
    "\n",
    "\n",
    "# FrozenSet                                    # FrozenSet works the same way as the set, the difference is that we cannot change the values inside a FrozenSet \n",
    "set = {1,2,3,4,5, \"a\", \"b\", \"a\", 1,2,3}\n",
    "set = frozenset(set);\n",
    "set"
   ]
  },
  {
   "cell_type": "markdown",
   "metadata": {},
   "source": [
    "### **User Input**"
   ]
  },
  {
   "cell_type": "code",
   "execution_count": 21,
   "metadata": {},
   "outputs": [
    {
     "name": "stdout",
     "output_type": "stream",
     "text": [
      "shhiivvaam\n"
     ]
    }
   ],
   "source": [
    "# Standard IO     -> Standard Input/ Output \n",
    "\n",
    "user_input = input(\"Enter your name : \")\n",
    "print(user_input)"
   ]
  },
  {
   "cell_type": "markdown",
   "metadata": {},
   "source": [
    "> # ****Python -> Operators****"
   ]
  },
  {
   "cell_type": "markdown",
   "metadata": {},
   "source": [
    "### **Arithmetic Operators**"
   ]
  },
  {
   "cell_type": "code",
   "execution_count": 22,
   "metadata": {},
   "outputs": [],
   "source": [
    "# Addition (+)\n",
    "# Subtraction (-)\n",
    "# Mutliplication (*)\n",
    "# Division (/)\n",
    "# Modulus (%)\n",
    "# Exponentiation (**)"
   ]
  },
  {
   "cell_type": "markdown",
   "metadata": {},
   "source": [
    "### **Comparison Operators**"
   ]
  },
  {
   "cell_type": "code",
   "execution_count": 23,
   "metadata": {},
   "outputs": [],
   "source": [
    "# Equal to (==)\n",
    "# Not Equal to (!=)\n",
    "# Greater than (>)\n",
    "# Less than (<)\n",
    "# Greater than or equal to (>=)\n",
    "# Less than or equal to (<=)"
   ]
  },
  {
   "cell_type": "markdown",
   "metadata": {},
   "source": [
    "### **Logical Operators**"
   ]
  },
  {
   "cell_type": "code",
   "execution_count": 24,
   "metadata": {},
   "outputs": [],
   "source": [
    "# Logical AND\n",
    "# Logical OR\n",
    "# Logical NOT (not)"
   ]
  },
  {
   "cell_type": "markdown",
   "metadata": {},
   "source": [
    "### **Bitwise Operators**"
   ]
  },
  {
   "cell_type": "code",
   "execution_count": 25,
   "metadata": {},
   "outputs": [],
   "source": [
    "# Bitwise AND (&)\n",
    "# Bitwise OR (|)\n",
    "# Bitwise NOt (~)\n",
    "# Bitwise XOR (^)\n",
    "# Left Shift (<<)\n",
    "# Right Shift (>>)"
   ]
  },
  {
   "cell_type": "markdown",
   "metadata": {},
   "source": [
    "### **Assignment Operators**"
   ]
  },
  {
   "cell_type": "code",
   "execution_count": 26,
   "metadata": {},
   "outputs": [],
   "source": [
    "# Assignment (=)\n",
    "# Addition Assignment (+=)\n",
    "# Subtraction Assignment (-=)\n",
    "# Multiplication Assignment (*=)\n",
    "# Division Assignment (/=)"
   ]
  },
  {
   "cell_type": "markdown",
   "metadata": {},
   "source": [
    "### **Membership Operators**"
   ]
  },
  {
   "cell_type": "code",
   "execution_count": 27,
   "metadata": {},
   "outputs": [],
   "source": [
    "# in           # 'z' in 'Sahil'         > returns False\n",
    "# not in       # 'z' not in 'Sahil'     > returns True"
   ]
  },
  {
   "cell_type": "markdown",
   "metadata": {},
   "source": [
    "### **Identity Operators**"
   ]
  },
  {
   "cell_type": "code",
   "execution_count": 28,
   "metadata": {},
   "outputs": [],
   "source": [
    "# is             # x is y\n",
    "# is not         # x is not y    > returns { True || False}"
   ]
  },
  {
   "cell_type": "markdown",
   "metadata": {},
   "source": [
    "> # ****Python -> Type Conversion****"
   ]
  },
  {
   "cell_type": "code",
   "execution_count": 29,
   "metadata": {},
   "outputs": [
    {
     "name": "stdout",
     "output_type": "stream",
     "text": [
      "6.5\n",
      "8\n",
      "<class 'str'>\n",
      "8\n",
      "<class 'int'>\n",
      "4.0\n",
      "1\n",
      "2\n",
      "2\n"
     ]
    }
   ],
   "source": [
    "# Implicit Type Conversion\n",
    "x = 2\n",
    "y = 4.5\n",
    "add = x + y\n",
    "print(add)        # Automatic type conversion - Implicit Type Conversion\n",
    "\n",
    "\n",
    "\n",
    "\n",
    "\n",
    "# Explicit Type Conversion\n",
    "x = input(\"Enter any number : \")\n",
    "print(x)\n",
    "print(type(x))             # by default the behaviour of python is that, it will take the argument in String format, not dependent in out input argument\n",
    "\n",
    "\n",
    "x = (int(input(\"Enter any number : \")))                  # here we are performing explicit type conversion\n",
    "print(x)\n",
    "print(type(x))\n",
    "\n",
    "\n",
    "x = 4\n",
    "y = float(x)\n",
    "print(y)\n",
    "\n",
    "\n",
    "\n",
    "mixed = [1, \"2\", 2.3]\n",
    "\n",
    "int_val = (int)(mixed[0])\n",
    "print(int_val)\n",
    "int_val = (int)(mixed[1])\n",
    "print(int_val)\n",
    "int_val = (int)(mixed[2])\n",
    "print(int_val)"
   ]
  },
  {
   "cell_type": "markdown",
   "metadata": {},
   "source": [
    "> # ****Python -> Control Flow Statements****"
   ]
  },
  {
   "cell_type": "code",
   "execution_count": 30,
   "metadata": {},
   "outputs": [
    {
     "name": "stdout",
     "output_type": "stream",
     "text": [
      "Shivam\n",
      "Surya\n",
      "Rakshit\n",
      "\n",
      "Shivam\n",
      "S h i v a m \n",
      "Surya\n",
      "S u r y a \n",
      "Rakshit\n",
      "R a k s h i t \n",
      "\n",
      "0 1 2 3 4 5 6 7 8 9 10 11 12 13 14 15 16 17 18 19 \n",
      "* \n",
      "* * \n",
      "* * * \n",
      "* * * * \n",
      "* * * * * \n",
      "\n",
      "4 3 2 1 0 \n",
      "5 6 7 8 9 \n",
      "1 3 5 7 9 11 13 15 17 19 \n",
      "1 2 3 4 5 6 7 8 \n",
      "1 2 3 4 5 6 7 8 9 11 12 13 14 15 16 17 18 19 \n"
     ]
    }
   ],
   "source": [
    "# conditional statement -> if elif else\n",
    "# looping statement -> for while\n",
    "# control flow -> break and continue\n",
    "\n",
    "\n",
    "\n",
    "\"\"\"\n",
    "    looping statement\n",
    "\"\"\"\n",
    "\n",
    "# for\n",
    "names = [\"Shivam\", \"Surya\", \"Rakshit\"]\n",
    "for name in names:\n",
    "    print(name)\n",
    "print()\n",
    "\n",
    "for name in names:\n",
    "    print(name)\n",
    "    for char in name:\n",
    "        print(char, end=\" \")\n",
    "    print()\n",
    "print()\n",
    "\n",
    "for i in range(20):            # indexing starts from 0 only\n",
    "    print(i, end=\" \")\n",
    "print()\n",
    "\n",
    "for i in range (5):\n",
    "    for j in range(i+1):\n",
    "        print(\"*\", end = \" \")\n",
    "    print()\n",
    "print()\n",
    "\n",
    "\n",
    "for i in range (5)[::-1]:      # this prints in reverse order  ( started from the loop last and end to the loops start)\n",
    "    print(i, end=\" \")\n",
    "print()\n",
    "\n",
    "\n",
    "# while\n",
    "x = 5\n",
    "while x<10:\n",
    "    print(x, end=\" \")\n",
    "    x +=1\n",
    "print()\n",
    "\n",
    "\n",
    "\n",
    "\n",
    "\n",
    "\n",
    "\"\"\"\n",
    "    Control Flow\n",
    "\"\"\"\n",
    "\n",
    "# break continue and range\n",
    "\n",
    "# range  -> step range\n",
    "for i in range(1, 20, 2):\n",
    "    print(i, end=\" \")\n",
    "print()\n",
    "\n",
    "# break\n",
    "for i in range(1, 20):\n",
    "    if i > 8:\n",
    "        break\n",
    "    print(i, end=\" \")\n",
    "print()\n",
    "\n",
    "# continue\n",
    "for i in range(1, 20):\n",
    "    if i == 10:\n",
    "        continue\n",
    "    print(i, end=\" \")\n",
    "print()"
   ]
  },
  {
   "cell_type": "code",
   "execution_count": 31,
   "metadata": {},
   "outputs": [
    {
     "name": "stdout",
     "output_type": "stream",
     "text": [
      "Incorrect Password\n",
      "Welcome!! You are successfully Logged In!!\n"
     ]
    }
   ],
   "source": [
    "sec_pass = \"secure@123\"\n",
    "password = input(\"Enter the password: \")\n",
    "\n",
    "while(password != sec_pass):\n",
    "    print(\"Incorrect Password\")\n",
    "    password = input(\"Enter the password again:\")\n",
    "print(\"Welcome!! You are successfully Logged In!!\")"
   ]
  },
  {
   "cell_type": "markdown",
   "metadata": {},
   "source": [
    "> # ****Python -> NameSpace****"
   ]
  },
  {
   "cell_type": "code",
   "execution_count": 32,
   "metadata": {},
   "outputs": [
    {
     "name": "stdout",
     "output_type": "stream",
     "text": [
      "Printing variable inside the Function : 10\n",
      "Printing variable: local_var -> 10\n",
      "Printing variable inside the Function : inner_fun -> 10\n",
      "Printing variable inside the Function: global_var -> 30\n"
     ]
    }
   ],
   "source": [
    "# local NameSpace\n",
    "def greet():\n",
    "    local_var = 10                    # This is a local variable and can only be accessed inside the Function only\n",
    "    print(f\"Printing variable inside the Function : {local_var}\")\n",
    "\n",
    "greet()\n",
    "\n",
    "# Enclosing NameSpace\n",
    "def greet_inner():\n",
    "    local_var = 10\n",
    "    print(f\"Printing variable: local_var -> {local_var}\")\n",
    "    def inner_fun():\n",
    "        print(f\"Printing variable inside the Function : inner_fun -> {local_var}\")\n",
    "    inner_fun()\n",
    "\n",
    "greet_inner()\n",
    "\n",
    "# Global NameSpace\n",
    "global_var = 30\n",
    "def greet():\n",
    "    print(f\"Printing variable inside the Function: global_var -> {global_var}\")\n",
    "\n",
    "greet()\n",
    "\n",
    "\n",
    "\n",
    "# Built in NameSpace\n",
    "    # -> print, input"
   ]
  },
  {
   "cell_type": "code",
   "execution_count": null,
   "metadata": {},
   "outputs": [],
   "source": []
  }
 ],
 "metadata": {
  "kernelspec": {
   "display_name": "Python 3",
   "language": "python",
   "name": "python3"
  },
  "language_info": {
   "codemirror_mode": {
    "name": "ipython",
    "version": 3
   },
   "file_extension": ".py",
   "mimetype": "text/x-python",
   "name": "python",
   "nbconvert_exporter": "python",
   "pygments_lexer": "ipython3",
   "version": "3.12.1"
  }
 },
 "nbformat": 4,
 "nbformat_minor": 2
}
