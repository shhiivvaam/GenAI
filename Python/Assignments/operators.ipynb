{
 "cells": [
  {
   "cell_type": "markdown",
   "metadata": {},
   "source": [
    "> ### `Sum Difference Product Quotient`"
   ]
  },
  {
   "cell_type": "code",
   "execution_count": 1,
   "metadata": {},
   "outputs": [
    {
     "name": "stdout",
     "output_type": "stream",
     "text": [
      "30\n",
      "10\n",
      "200\n",
      "0.5\n"
     ]
    }
   ],
   "source": [
    "a = 10\n",
    "b = 20\n",
    "\n",
    "# sum\n",
    "c = a+b\n",
    "print(c)\n",
    "\n",
    "# diff\n",
    "c = b-a\n",
    "print(c)\n",
    "\n",
    "# mul\n",
    "c = a*b\n",
    "print(c)\n",
    "\n",
    "# quo\n",
    "c = a/b\n",
    "print(c)"
   ]
  },
  {
   "cell_type": "markdown",
   "metadata": {},
   "source": [
    "> ### `Performing various assignment operators`"
   ]
  },
  {
   "cell_type": "code",
   "execution_count": 4,
   "metadata": {},
   "outputs": [
    {
     "name": "stdout",
     "output_type": "stream",
     "text": [
      "15\n",
      "10\n",
      "50\n",
      "10.0\n",
      "100000.0\n",
      "0.0\n",
      "0.0\n"
     ]
    }
   ],
   "source": [
    "# variable\n",
    "x = 10\n",
    "\n",
    "# add\n",
    "x += 5\n",
    "print(x)\n",
    "\n",
    "# sub\n",
    "x -= 5\n",
    "print(x)\n",
    "\n",
    "# mul\n",
    "x *= 5\n",
    "print(x)\n",
    "\n",
    "# div\n",
    "x /= 5\n",
    "print(x)\n",
    "\n",
    "# pow\n",
    "x **= 5\n",
    "print(x)\n",
    "\n",
    "# mod\n",
    "x %= 5\n",
    "print(x)\n",
    "\n",
    "# floor div\n",
    "x //= 5\n",
    "print(x)"
   ]
  },
  {
   "cell_type": "markdown",
   "metadata": {},
   "source": [
    "> ### `Compare two number`"
   ]
  },
  {
   "cell_type": "code",
   "execution_count": 2,
   "metadata": {},
   "outputs": [
    {
     "name": "stdout",
     "output_type": "stream",
     "text": [
      "10 < 20\n"
     ]
    }
   ],
   "source": [
    "a = 10\n",
    "b = 20\n",
    "\n",
    "if a < b:\n",
    "    print(f\"{a} < {b}\")\n",
    "elif a > b:\n",
    "    print(f\"{a} > {b}\")\n",
    "else:\n",
    "    print(f\"{a} == {b}\")"
   ]
  },
  {
   "cell_type": "markdown",
   "metadata": {},
   "source": [
    "> ### `Check Conditions using Logical Operators`"
   ]
  },
  {
   "cell_type": "code",
   "execution_count": 3,
   "metadata": {},
   "outputs": [
    {
     "name": "stdout",
     "output_type": "stream",
     "text": [
      "10 < 20 and 20 < 30\n",
      "10 < 20 and 20 < 30\n",
      "10 < 20 and 20 < 30\n"
     ]
    }
   ],
   "source": [
    "# Conditional Operators : ==, !=, <, >, >=, <=\n",
    "# Logical Operators : and, or, not\n",
    "\n",
    "a = 10\n",
    "b = 20\n",
    "c = 30\n",
    "\n",
    "if a < b and b < c:\n",
    "    print(f\"{a} < {b} and {b} < {c}\")\n",
    "\n",
    "if a < b or b < c:\n",
    "    print(f\"{a} < {b} and {b} < {c}\")\n",
    "\n",
    "if not a > b:\n",
    "    print(f\"{a} < {b} and {b} < {c}\")"
   ]
  },
  {
   "cell_type": "markdown",
   "metadata": {},
   "source": [
    "> ### `Checking the Identity of a Variable`"
   ]
  },
  {
   "cell_type": "code",
   "execution_count": 8,
   "metadata": {},
   "outputs": [
    {
     "name": "stdout",
     "output_type": "stream",
     "text": [
      "False\n",
      "True\n"
     ]
    }
   ],
   "source": [
    "a = [1,2,3]\n",
    "b = [1,2,3]\n",
    "\n",
    "c = b\n",
    "\n",
    "print(a is b)\n",
    "print(b is c)"
   ]
  },
  {
   "cell_type": "markdown",
   "metadata": {},
   "source": [
    "> ### `Bitwise Opertions`"
   ]
  },
  {
   "cell_type": "code",
   "execution_count": 10,
   "metadata": {},
   "outputs": [
    {
     "name": "stdout",
     "output_type": "stream",
     "text": [
      "0\n",
      "30\n",
      "-11\n",
      "-21\n",
      "10485760\n",
      "0\n"
     ]
    }
   ],
   "source": [
    "a = 10\n",
    "b = 20\n",
    "\n",
    "# AND &\n",
    "print(a&b)\n",
    "\n",
    "# OR |\n",
    "print(a|b)\n",
    "\n",
    "# NOT ~\n",
    "print(~a)\n",
    "print(~b)\n",
    "\n",
    "# left_shift <<\n",
    "print(a<<b)\n",
    "\n",
    "# right_shift >>\n",
    "print(a>>b)"
   ]
  },
  {
   "cell_type": "markdown",
   "metadata": {},
   "source": [
    "> ### `Unary Operators -> to change the sign`"
   ]
  },
  {
   "cell_type": "code",
   "execution_count": 11,
   "metadata": {},
   "outputs": [
    {
     "name": "stdout",
     "output_type": "stream",
     "text": [
      "-10\n"
     ]
    }
   ],
   "source": [
    "a = 10\n",
    "print(-a)"
   ]
  },
  {
   "cell_type": "markdown",
   "metadata": {},
   "source": [
    "> ### `Using Ternary Operator to assign values based on Conditions`"
   ]
  },
  {
   "cell_type": "code",
   "execution_count": 12,
   "metadata": {},
   "outputs": [
    {
     "name": "stdout",
     "output_type": "stream",
     "text": [
      "50\n"
     ]
    }
   ],
   "source": [
    "a = 10\n",
    "b = 20\n",
    "c = 50 if a < b else 100\n",
    "print(c)"
   ]
  },
  {
   "cell_type": "code",
   "execution_count": null,
   "metadata": {},
   "outputs": [],
   "source": []
  }
 ],
 "metadata": {
  "kernelspec": {
   "display_name": "Python 3",
   "language": "python",
   "name": "python3"
  },
  "language_info": {
   "codemirror_mode": {
    "name": "ipython",
    "version": 3
   },
   "file_extension": ".py",
   "mimetype": "text/x-python",
   "name": "python",
   "nbconvert_exporter": "python",
   "pygments_lexer": "ipython3",
   "version": "3.12.1"
  }
 },
 "nbformat": 4,
 "nbformat_minor": 2
}
