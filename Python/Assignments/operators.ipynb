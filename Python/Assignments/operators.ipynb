{
 "cells": [
  {
   "cell_type": "markdown",
   "metadata": {},
   "source": [
    "> ### `Sum Difference Product Quotient`"
   ]
  },
  {
   "cell_type": "code",
   "execution_count": 1,
   "metadata": {},
   "outputs": [
    {
     "name": "stdout",
     "output_type": "stream",
     "text": [
      "30\n",
      "10\n",
      "200\n",
      "0.5\n"
     ]
    }
   ],
   "source": [
    "a = 10\n",
    "b = 20\n",
    "\n",
    "# sum\n",
    "c = a+b\n",
    "print(c)\n",
    "\n",
    "# diff\n",
    "c = b-a\n",
    "print(c)\n",
    "\n",
    "# mul\n",
    "c = a*b\n",
    "print(c)\n",
    "\n",
    "# quo\n",
    "c = a/b\n",
    "print(c)"
   ]
  },
  {
   "cell_type": "markdown",
   "metadata": {},
   "source": [
    "> ### `Performing various assignment operators`"
   ]
  },
  {
   "cell_type": "code",
   "execution_count": 4,
   "metadata": {},
   "outputs": [
    {
     "name": "stdout",
     "output_type": "stream",
     "text": [
      "15\n",
      "10\n",
      "50\n",
      "10.0\n",
      "100000.0\n",
      "0.0\n",
      "0.0\n"
     ]
    }
   ],
   "source": [
    "# variable\n",
    "x = 10\n",
    "\n",
    "# add\n",
    "x += 5\n",
    "print(x)\n",
    "\n",
    "# sub\n",
    "x -= 5\n",
    "print(x)\n",
    "\n",
    "# mul\n",
    "x *= 5\n",
    "print(x)\n",
    "\n",
    "# div\n",
    "x /= 5\n",
    "print(x)\n",
    "\n",
    "# pow\n",
    "x **= 5\n",
    "print(x)\n",
    "\n",
    "# mod\n",
    "x %= 5\n",
    "print(x)\n",
    "\n",
    "# floor div\n",
    "x //= 5\n",
    "print(x)"
   ]
  },
  {
   "cell_type": "code",
   "execution_count": null,
   "metadata": {},
   "outputs": [],
   "source": []
  }
 ],
 "metadata": {
  "kernelspec": {
   "display_name": "Python 3",
   "language": "python",
   "name": "python3"
  },
  "language_info": {
   "codemirror_mode": {
    "name": "ipython",
    "version": 3
   },
   "file_extension": ".py",
   "mimetype": "text/x-python",
   "name": "python",
   "nbconvert_exporter": "python",
   "pygments_lexer": "ipython3",
   "version": "3.12.1"
  }
 },
 "nbformat": 4,
 "nbformat_minor": 2
}
