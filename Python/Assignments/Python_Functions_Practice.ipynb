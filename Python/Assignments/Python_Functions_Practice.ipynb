{
  "cells": [
    {
      "cell_type": "markdown",
      "metadata": {
        "id": "PoT3Ns6bzMHX"
      },
      "source": [
        "#### 1.Write a Python function check the number is prime or not?"
      ]
    },
    {
      "cell_type": "code",
      "execution_count": 1,
      "metadata": {
        "id": "iibYzGGtzH4C"
      },
      "outputs": [],
      "source": [
        "def prime(n):\n",
        "    if n <= 1:\n",
        "        return False\n",
        "    elif n <= 3:\n",
        "        return True\n",
        "    elif n%2 == 0 or n%3 == 0:\n",
        "        return False\n",
        "    \n",
        "    for i in range(2, int(n ** 0.5) +1):\n",
        "        if n%i == 0:\n",
        "            return False\n",
        "    return True"
      ]
    },
    {
      "cell_type": "code",
      "execution_count": 4,
      "metadata": {},
      "outputs": [
        {
          "name": "stdout",
          "output_type": "stream",
          "text": [
            "True\n",
            "False\n"
          ]
        }
      ],
      "source": [
        "print(prime(5))\n",
        "print(prime(100))"
      ]
    },
    {
      "cell_type": "markdown",
      "metadata": {
        "id": "oAoEH4GYzQ3S"
      },
      "source": [
        "#### 2.Write a Python function string is palindrome or not?"
      ]
    },
    {
      "cell_type": "code",
      "execution_count": 7,
      "metadata": {
        "id": "SodMRdGNzRJw"
      },
      "outputs": [],
      "source": [
        "def palindrome(s):\n",
        "    return s == s[::-1]"
      ]
    },
    {
      "cell_type": "code",
      "execution_count": 8,
      "metadata": {},
      "outputs": [
        {
          "name": "stdout",
          "output_type": "stream",
          "text": [
            "False\n",
            "True\n"
          ]
        }
      ],
      "source": [
        "print(palindrome(\"shivam\"))\n",
        "print(palindrome(\"muiium\"))"
      ]
    },
    {
      "cell_type": "markdown",
      "metadata": {
        "id": "17MlAlemzftA"
      },
      "source": [
        "#### 3. Write a Python function Print 7 Pascal's triangle."
      ]
    },
    {
      "cell_type": "code",
      "execution_count": 10,
      "metadata": {
        "id": "346plyxtzf6k"
      },
      "outputs": [],
      "source": [
        "def pascal7(row):\n",
        "    for i in range(row):\n",
        "        print(\" \" * (row - i - 1), end=\"\")\n",
        "        number = 1\n",
        "        for j in range(i + 1):\n",
        "            print(number, end=\" \")\n",
        "            number = number * (i - j) // (j + 1)\n",
        "        print()"
      ]
    },
    {
      "cell_type": "code",
      "execution_count": 11,
      "metadata": {},
      "outputs": [
        {
          "name": "stdout",
          "output_type": "stream",
          "text": [
            "      1 \n",
            "     1 1 \n",
            "    1 2 1 \n",
            "   1 3 3 1 \n",
            "  1 4 6 4 1 \n",
            " 1 5 10 10 5 1 \n",
            "1 6 15 20 15 6 1 \n"
          ]
        }
      ],
      "source": [
        "pascal7(7)"
      ]
    },
    {
      "cell_type": "markdown",
      "metadata": {
        "id": "V_xfOEQvzlP-"
      },
      "source": [
        "4. #### 5.Write a Python function to calculate the harmonic mean\n",
        "\n",
        "HM = n / [1/x1 + 1/x2 + 1/x3 + ... + 1/xn]\n",
        "\n",
        "Here, the total number of observations is divided by the sum of reciprocals of all observations."
      ]
    },
    {
      "cell_type": "code",
      "execution_count": 13,
      "metadata": {
        "id": "G3Xm_Wfvz0Tf"
      },
      "outputs": [],
      "source": [
        "def harmonic_mean(list_n):\n",
        "    total_hm_sum = sum(1/x for x in list_n)\n",
        "    hm = len(list_n) / total_hm_sum\n",
        "    return hm"
      ]
    },
    {
      "cell_type": "code",
      "execution_count": 14,
      "metadata": {},
      "outputs": [
        {
          "name": "stdout",
          "output_type": "stream",
          "text": [
            "3.414171521474055\n",
            "2.18978102189781\n"
          ]
        }
      ],
      "source": [
        "print(harmonic_mean([1,2,3,4,5,6,7,8,9,10]))\n",
        "print(harmonic_mean([1,2,3,4,5]))"
      ]
    },
    {
      "cell_type": "markdown",
      "metadata": {
        "id": "An-bG3Ia0Dwn"
      },
      "source": [
        "#### Types of arguments\n",
        "\n",
        "\n",
        "    1. Required arguments\n",
        "    2. Keyword arguments\n",
        "    3. Default arguments\n",
        "    4. Variable-length arguments"
      ]
    },
    {
      "cell_type": "markdown",
      "metadata": {
        "id": "QaWwxJgD0ITP"
      },
      "source": [
        "#### 1. Required arguments: (the function calculate returns the sum of two arguments a and b )"
      ]
    },
    {
      "cell_type": "code",
      "execution_count": 16,
      "metadata": {
        "id": "DMU81ynX0EDx"
      },
      "outputs": [],
      "source": [
        "def req_sum(a, b):\n",
        "    return a+b"
      ]
    },
    {
      "cell_type": "code",
      "execution_count": 17,
      "metadata": {},
      "outputs": [
        {
          "name": "stdout",
          "output_type": "stream",
          "text": [
            "5\n",
            "15\n"
          ]
        }
      ],
      "source": [
        "print(req_sum(2, 3))\n",
        "print(req_sum(5, 10))"
      ]
    },
    {
      "cell_type": "markdown",
      "metadata": {
        "id": "ssQeyLoE0KPK"
      },
      "source": [
        "#### 2.Keyword arguments:(The function simple_interest(p, t, r) is called with the keyword arguments)\n",
        "\n",
        " P = (100 × S.I.)/(R × T)"
      ]
    },
    {
      "cell_type": "code",
      "execution_count": 19,
      "metadata": {
        "id": "QGsoeae00Kko"
      },
      "outputs": [],
      "source": [
        "def simple_interest(p, t, r):\n",
        "    ans = p*r*t/100\n",
        "    return ans"
      ]
    },
    {
      "cell_type": "code",
      "execution_count": 20,
      "metadata": {},
      "outputs": [
        {
          "name": "stdout",
          "output_type": "stream",
          "text": [
            "60.0\n",
            "240.0\n"
          ]
        }
      ],
      "source": [
        "print(simple_interest(10, 20, 30))\n",
        "print(simple_interest(20, 30, 40))"
      ]
    },
    {
      "cell_type": "markdown",
      "metadata": {
        "id": "aPe4hgEy0igE"
      },
      "source": [
        "#### 3. Default arguments: (the function calculate returns the multiplication of 4 arguments a, b ,c and d. Variable c and d will have default arguments of 45 and 10)"
      ]
    },
    {
      "cell_type": "code",
      "execution_count": 21,
      "metadata": {
        "id": "q9bngT0_0vHa"
      },
      "outputs": [],
      "source": [
        "def mul(a, b, c = 10, d = 10):\n",
        "    return a*b*c*d"
      ]
    },
    {
      "cell_type": "code",
      "execution_count": 22,
      "metadata": {},
      "outputs": [
        {
          "name": "stdout",
          "output_type": "stream",
          "text": [
            "200\n",
            "24\n"
          ]
        }
      ],
      "source": [
        "print(mul(1,2))\n",
        "print(mul(1, 2, 3, 4))"
      ]
    }
  ],
  "metadata": {
    "colab": {
      "provenance": []
    },
    "kernelspec": {
      "display_name": "Python 3",
      "name": "python3"
    },
    "language_info": {
      "codemirror_mode": {
        "name": "ipython",
        "version": 3
      },
      "file_extension": ".py",
      "mimetype": "text/x-python",
      "name": "python",
      "nbconvert_exporter": "python",
      "pygments_lexer": "ipython3",
      "version": "3.12.1"
    }
  },
  "nbformat": 4,
  "nbformat_minor": 0
}
