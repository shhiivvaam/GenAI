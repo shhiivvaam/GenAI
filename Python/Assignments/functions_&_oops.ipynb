{
 "cells": [
  {
   "cell_type": "markdown",
   "metadata": {},
   "source": [
    "> ## ****Functions & OOPS****"
   ]
  },
  {
   "cell_type": "code",
   "execution_count": 1,
   "metadata": {},
   "outputs": [],
   "source": [
    "# Explain the Importance of Functions.\n",
    "\n",
    "# 1. Functions allows us to make a piece of code resusable.\n",
    "# 2 It allows us to make the code more readable and manageble, and also easier to understand and debug."
   ]
  },
  {
   "cell_type": "code",
   "execution_count": 2,
   "metadata": {},
   "outputs": [
    {
     "name": "stdout",
     "output_type": "stream",
     "text": [
      "Hello Student!\n",
      "Welcome to the Python Programming Course.\n"
     ]
    }
   ],
   "source": [
    "# Basic function to greet students\n",
    "def greet_student():\n",
    "    print(\"Hello Student!\")\n",
    "    print(\"Welcome to the Python Programming Course.\")\n",
    "\n",
    "greet_student()"
   ]
  },
  {
   "cell_type": "code",
   "execution_count": 3,
   "metadata": {},
   "outputs": [
    {
     "name": "stdout",
     "output_type": "stream",
     "text": [
      "it just prints the value to the console\n"
     ]
    },
    {
     "data": {
      "text/plain": [
       "'it returns the value to the calling code'"
      ]
     },
     "execution_count": 3,
     "metadata": {},
     "output_type": "execute_result"
    }
   ],
   "source": [
    "# Difference between print and return\n",
    "\n",
    "# print: it just prints the value to the console\n",
    "# return: it returns the value to the calling code\n",
    "\n",
    "print(\"it just prints the value to the console\")\n",
    "\n",
    "def check_return():\n",
    "    return \"it returns the value to the calling code\"\n",
    "check_return()"
   ]
  },
  {
   "cell_type": "code",
   "execution_count": 4,
   "metadata": {},
   "outputs": [
    {
     "name": "stdout",
     "output_type": "stream",
     "text": [
      "(1, 2, 3, 4, 5)\n",
      "{'name': 'Shivam', 'age': 25}\n"
     ]
    }
   ],
   "source": [
    "# *args and kwargs**\n",
    "\n",
    "# *args (arguments): it allows us to pass any number of arguments to the function\n",
    "# kwargs (key-word arguments): it allows us to pass any number of keyword(key-pair) arguments to the function\n",
    "\n",
    "def args(*args):\n",
    "    print(args)\n",
    "    \n",
    "def kwargs(**kwargs):\n",
    "    print(kwargs)\n",
    "\n",
    "args(1, 2, 3, 4, 5)\n",
    "kwargs(name=\"Shivam\", age=25)"
   ]
  },
  {
   "cell_type": "code",
   "execution_count": 7,
   "metadata": {},
   "outputs": [
    {
     "name": "stdout",
     "output_type": "stream",
     "text": [
      "Shivam\n",
      "Shachi\n",
      "Rajesh\n"
     ]
    }
   ],
   "source": [
    "# Iterator Function\n",
    "\n",
    "# It is an object that allows to iterate over collections of data, like list, tuples, dictionaries and sets.\n",
    "# It is used to iterate over the data one by one.\n",
    "# It is used using methods -> __iter__()  and  __next__()\n",
    "\n",
    "check_tuple = (\"Shivam\", \"Shachi\", \"Rajesh\")\n",
    "iterator = iter(check_tuple)\n",
    "\n",
    "print(next(iterator))\n",
    "print(next(iterator))\n",
    "print(next(iterator))"
   ]
  },
  {
   "cell_type": "code",
   "execution_count": 13,
   "metadata": {},
   "outputs": [
    {
     "name": "stdout",
     "output_type": "stream",
     "text": [
      "1 4 9 16 25 "
     ]
    }
   ],
   "source": [
    "# Squares of numbers from 1 to n using generator\n",
    "\n",
    "def square_generator(n):\n",
    "    for i in range(1, n+1):\n",
    "        yield i*i\n",
    "\n",
    "squares = square_generator(5)\n",
    "for i in squares:\n",
    "    print(i, end=\" \")\n",
    "\n",
    "\n",
    "# here, square generator is the generator function that yields the squares of the numbers from 1 to n\n",
    "# The yield keyword is used to return values one at a time, making is a generator function."
   ]
  },
  {
   "cell_type": "code",
   "execution_count": 14,
   "metadata": {},
   "outputs": [
    {
     "name": "stdout",
     "output_type": "stream",
     "text": [
      "1 2 3 4 5 6 7 8 9 11 22 33 44 55 66 77 88 99 "
     ]
    }
   ],
   "source": [
    "# Generate Palindomic numbers upto n using a generator\n",
    "\n",
    "def palindrome_generator(n):\n",
    "    def is_palindrome(num):\n",
    "        return str(num) == str(num)[::-1]\n",
    "    \n",
    "    for i in range(1, n+1):\n",
    "        if is_palindrome(i):\n",
    "            yield i\n",
    "\n",
    "\n",
    "palindromes = palindrome_generator(100)\n",
    "for i in palindromes:\n",
    "    print(i, end=\" \")"
   ]
  },
  {
   "cell_type": "code",
   "execution_count": 16,
   "metadata": {},
   "outputs": [
    {
     "name": "stdout",
     "output_type": "stream",
     "text": [
      "2 4 6 8 10 "
     ]
    }
   ],
   "source": [
    "# Generate Even numbers from 2 to n using a generator\n",
    "\n",
    "def even_generator(n):\n",
    "    for i in range(2, n+1, 2):\n",
    "        yield i\n",
    "\n",
    "even = even_generator(10)\n",
    "for i in even:\n",
    "    print(i, end=\" \")"
   ]
  },
  {
   "cell_type": "code",
   "execution_count": 18,
   "metadata": {},
   "outputs": [
    {
     "name": "stdout",
     "output_type": "stream",
     "text": [
      "1 2 4 8 16 32 64 128 256 512 "
     ]
    }
   ],
   "source": [
    "# Generate Powers of 2 upto n using Generators\n",
    "\n",
    "def power_of_two_generator(n):\n",
    "    for i in range(n):\n",
    "        yield 2**i\n",
    "\n",
    "power_of_two = power_of_two_generator(10)\n",
    "for i in power_of_two:\n",
    "    print(i, end=\" \")"
   ]
  },
  {
   "cell_type": "code",
   "execution_count": 23,
   "metadata": {},
   "outputs": [
    {
     "name": "stdout",
     "output_type": "stream",
     "text": [
      "2 3 5 7 "
     ]
    }
   ],
   "source": [
    "# Generate Prime numbers upto n using Generators\n",
    "\n",
    "def prime_generator(n):\n",
    "    for i in range(2, n+1):\n",
    "        for j in range(2, i):\n",
    "            if i % j == 0:\n",
    "                break\n",
    "        else:\n",
    "            yield i\n",
    "\n",
    "primes = prime_generator(10)\n",
    "# print(list(primes))\n",
    "for i in primes:\n",
    "    print(i, end=\" \")"
   ]
  },
  {
   "cell_type": "code",
   "execution_count": 24,
   "metadata": {},
   "outputs": [
    {
     "name": "stdout",
     "output_type": "stream",
     "text": [
      "11\n"
     ]
    }
   ],
   "source": [
    "# Lambda function to add two numbers\n",
    "\n",
    "add = lambda a, b: a + b\n",
    "print(add(5, 6))"
   ]
  },
  {
   "cell_type": "code",
   "execution_count": 26,
   "metadata": {},
   "outputs": [
    {
     "name": "stdout",
     "output_type": "stream",
     "text": [
      "25\n"
     ]
    }
   ],
   "source": [
    "# Lambda function to calculate the square of a given number\n",
    "\n",
    "square = lambda a: a*a\n",
    "print(square(5))"
   ]
  },
  {
   "cell_type": "code",
   "execution_count": 28,
   "metadata": {},
   "outputs": [
    {
     "name": "stdout",
     "output_type": "stream",
     "text": [
      "Even\n",
      "Odd\n"
     ]
    }
   ],
   "source": [
    "# Lambda function to check given number is even or odd\n",
    "\n",
    "even_odd = lambda a: \"Even\" if a % 2 == 0 else \"Odd\"\n",
    "print(even_odd(2))\n",
    "print(even_odd(5))"
   ]
  },
  {
   "cell_type": "code",
   "execution_count": 32,
   "metadata": {},
   "outputs": [
    {
     "name": "stdout",
     "output_type": "stream",
     "text": [
      "Shivam Shachi\n"
     ]
    }
   ],
   "source": [
    "# Lambda function to concatenate two strings\n",
    "\n",
    "concat = lambda a, b: a + b\n",
    "print(concat(\"Shivam \", \"Shachi\"))"
   ]
  },
  {
   "cell_type": "code",
   "execution_count": 33,
   "metadata": {},
   "outputs": [
    {
     "name": "stdout",
     "output_type": "stream",
     "text": [
      "30\n"
     ]
    }
   ],
   "source": [
    "# Lambda function to find the maximum of three numbers\n",
    "\n",
    "maximum = lambda a, b, c: a if a > b and a > c else b if b > c else c\n",
    "print(maximum(10, 20, 30))"
   ]
  },
  {
   "cell_type": "code",
   "execution_count": 36,
   "metadata": {},
   "outputs": [
    {
     "name": "stdout",
     "output_type": "stream",
     "text": [
      "[4, 16, 36, 64, 100]\n",
      "[4, 16, 36, 64, 100]\n"
     ]
    }
   ],
   "source": [
    "# Generate Square of even numbers from a given list\n",
    "\n",
    "numbers = [1, 2, 3, 4, 5, 6, 7, 8, 9, 10]\n",
    "squares = [a*a for a in numbers if a % 2 == 0]\n",
    "print(squares)\n",
    "\n",
    "\n",
    "# using lambda\n",
    "squares = list(map(lambda a: a*a, filter(lambda a: a % 2 == 0, numbers)))\n",
    "print(squares)"
   ]
  },
  {
   "cell_type": "code",
   "execution_count": 8,
   "metadata": {},
   "outputs": [
    {
     "name": "stdout",
     "output_type": "stream",
     "text": [
      "3628800\n",
      "3628800\n"
     ]
    }
   ],
   "source": [
    "# Calculate the products of positive numbers from a given list\n",
    "\n",
    "numbers = [-9, -8, -7, -6, -5, -4, -3, -2, -1, 0, 1, 2, 3, 4, 5, 6, 7, 8, 9, 10]\n",
    "\n",
    "# using functions\n",
    "def pro_positive():\n",
    "    pro = 1\n",
    "    for i in numbers:\n",
    "        if i > 0:\n",
    "            pro *= i\n",
    "    return pro\n",
    "\n",
    "print(pro_positive())\n",
    "\n",
    "\n",
    "# using lambda function\n",
    "\n",
    "from functools import reduce\n",
    "product = reduce(lambda x, y: x * y, filter(lambda x: x > 0, numbers))\n",
    "print(product)\n"
   ]
  },
  {
   "cell_type": "code",
   "execution_count": null,
   "metadata": {},
   "outputs": [],
   "source": []
  }
 ],
 "metadata": {
  "kernelspec": {
   "display_name": "Python 3",
   "language": "python",
   "name": "python3"
  },
  "language_info": {
   "codemirror_mode": {
    "name": "ipython",
    "version": 3
   },
   "file_extension": ".py",
   "mimetype": "text/x-python",
   "name": "python",
   "nbconvert_exporter": "python",
   "pygments_lexer": "ipython3",
   "version": "3.12.1"
  }
 },
 "nbformat": 4,
 "nbformat_minor": 2
}
