{
 "cells": [
  {
   "cell_type": "markdown",
   "metadata": {},
   "source": [
    "> ### `Significance of Python Keywords`"
   ]
  },
  {
   "cell_type": "code",
   "execution_count": null,
   "metadata": {},
   "outputs": [],
   "source": [
    "#  Python Keywords : \n",
    "            #* They are the reserved Keywords that are predifined for some fixed functionalities and purpose to work for.\n",
    "            #* They cannot be assigned as a variable name, as they are fixed for some pre-defined tasks.\n",
    "            #? ex : if, elif, else, for, while, do, def, return, and, or, not, class, import"
   ]
  },
  {
   "cell_type": "markdown",
   "metadata": {},
   "source": [
    "> ### `Rules for defining Identifiers`"
   ]
  },
  {
   "cell_type": "code",
   "execution_count": null,
   "metadata": {},
   "outputs": [],
   "source": [
    "# Identifiers :\n",
    "            #* Identifiers are the names given to some variable, function, class, module.\n",
    "            #* It has a contraint, that it cannot be start with a digit, the first letter should only be a leeter, irrespective of the case(lower/ uppercase)\n",
    "            #* Python Keywords cannot be used as an Identifiers.\n",
    "            #* It can contain digits(0-9), letters(a-z, A-Z), and underscore(-)\n",
    "            \n",
    "ex_10 = 10  # here { ex } variable is not a Python Keyword, also the first letter is not a digit, so it can be called as an Identifier.\n",
    "print(ex_10) "
   ]
  },
  {
   "cell_type": "markdown",
   "metadata": {},
   "source": [
    "> ### `Comments in Python`"
   ]
  },
  {
   "cell_type": "code",
   "execution_count": 1,
   "metadata": {},
   "outputs": [
    {
     "data": {
      "text/plain": [
       "'This is also a Multi Line Comment'"
      ]
     },
     "execution_count": 1,
     "metadata": {},
     "output_type": "execute_result"
    }
   ],
   "source": [
    "# Comments in Python :\n",
    "            #* Comments are used to explain the code\n",
    "            #* They are not executed by the interpreter\n",
    "            #* It can be used in bitween the code for explainations\n",
    "\n",
    "            #? There are two types of comments:\n",
    "                #* 1. Single Line Comment (#)\n",
    "                #* 2. Multi Line Comment ('''''' / \"\"\"\"\"\")\n",
    "                \n",
    "# ex : \n",
    "# This is a Single Line Comment\n",
    "\"\"\"This is a Multi Line Comment\"\"\"\n",
    "'''This is also a Multi Line Comment'''"
   ]
  },
  {
   "cell_type": "markdown",
   "metadata": {},
   "source": [
    "> ### `Identation in Python`"
   ]
  },
  {
   "cell_type": "code",
   "execution_count": null,
   "metadata": {},
   "outputs": [],
   "source": [
    "# Indentation :\n",
    "#* Indentation is very important in python, to check the scope of the code and perform the execution.\n",
    "#* Other languages like, Java, C++ and others used {} curly-braces to identify the scope, but in python is is identified with Indentation."
   ]
  },
  {
   "cell_type": "markdown",
   "metadata": {},
   "source": [
    "> ### `When Indentation is Incorrect`"
   ]
  },
  {
   "cell_type": "code",
   "execution_count": null,
   "metadata": {},
   "outputs": [],
   "source": [
    "# If the indentation in incorrect in python, the python interpreter will not be able to recorgnize the scope of the code. And hence will throw and error."
   ]
  },
  {
   "cell_type": "markdown",
   "metadata": {},
   "source": [
    "> ### `Difference in Expressions and Statements in Python`"
   ]
  },
  {
   "cell_type": "code",
   "execution_count": null,
   "metadata": {},
   "outputs": [],
   "source": [
    "# Expression :\n",
    "    #* Expression is a combination of values, variables, operators, and calls to functions. \n",
    "    #* It can be used for filtering data or performing calculations\n",
    "\n",
    "# Statements :\n",
    "    #* Statements represent an action or command.\n",
    "    #* It represts a complete line of code that performs some specific action.\n",
    "    \n",
    "x = 10\n",
    "y = x + 10              # Assignment expression\n",
    "\n",
    "if(x == 10):            # Statement\n",
    "    print(f\"x = 10\")"
   ]
  }
 ],
 "metadata": {
  "kernelspec": {
   "display_name": "Python 3",
   "language": "python",
   "name": "python3"
  },
  "language_info": {
   "codemirror_mode": {
    "name": "ipython",
    "version": 3
   },
   "file_extension": ".py",
   "mimetype": "text/x-python",
   "name": "python",
   "nbconvert_exporter": "python",
   "pygments_lexer": "ipython3",
   "version": "3.12.1"
  }
 },
 "nbformat": 4,
 "nbformat_minor": 2
}
